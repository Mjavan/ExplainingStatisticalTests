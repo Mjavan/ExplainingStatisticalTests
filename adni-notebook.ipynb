{
 "cells": [
  {
   "cell_type": "code",
   "execution_count": 1,
   "metadata": {},
   "outputs": [],
   "source": [
    "import os\n",
    "import json\n",
    "from pathlib import Path\n",
    "from typing import Tuple, Optional\n",
    "\n",
    "import numpy as np\n",
    "import pandas as pd\n",
    "import matplotlib.pyplot as plt\n",
    "\n",
    "from PIL import Image, UnidentifiedImageError"
   ]
  },
  {
   "cell_type": "code",
   "execution_count": 2,
   "metadata": {},
   "outputs": [],
   "source": [
    "# The path that data has been saved is as follows:\n",
    "Base_Path = \"~/coldstore\""
   ]
  },
  {
   "cell_type": "markdown",
   "metadata": {},
   "source": [
    "### Extracting just the \"No DR\" and \"Proliferative DR\""
   ]
  },
  {
   "cell_type": "code",
   "execution_count": 3,
   "metadata": {},
   "outputs": [
    {
     "data": {
      "application/vnd.microsoft.datawrangler.viewer.v0+json": {
       "columns": [
        {
         "name": "index",
         "rawType": "int64",
         "type": "integer"
        },
        {
         "name": "image",
         "rawType": "object",
         "type": "string"
        },
        {
         "name": "level",
         "rawType": "int64",
         "type": "integer"
        }
       ],
       "ref": "abd8b56d-2796-485c-8b76-193a3ed56042",
       "rows": [
        [
         "0",
         "10_left",
         "0"
        ],
        [
         "1",
         "10_right",
         "0"
        ],
        [
         "2",
         "13_left",
         "0"
        ],
        [
         "3",
         "13_right",
         "0"
        ],
        [
         "6",
         "16_left",
         "1"
        ],
        [
         "7",
         "16_right",
         "1"
        ],
        [
         "8",
         "17_left",
         "0"
        ],
        [
         "10",
         "19_left",
         "0"
        ],
        [
         "11",
         "19_right",
         "0"
        ],
        [
         "12",
         "20_left",
         "0"
        ],
        [
         "13",
         "20_right",
         "0"
        ],
        [
         "14",
         "21_left",
         "0"
        ],
        [
         "15",
         "21_right",
         "0"
        ],
        [
         "16",
         "22_left",
         "0"
        ],
        [
         "17",
         "22_right",
         "0"
        ],
        [
         "18",
         "23_left",
         "0"
        ],
        [
         "19",
         "23_right",
         "0"
        ],
        [
         "20",
         "25_left",
         "0"
        ],
        [
         "21",
         "25_right",
         "0"
        ],
        [
         "24",
         "31_left",
         "0"
        ],
        [
         "25",
         "31_right",
         "0"
        ],
        [
         "26",
         "33_left",
         "0"
        ],
        [
         "27",
         "33_right",
         "0"
        ],
        [
         "29",
         "36_right",
         "0"
        ],
        [
         "31",
         "40_right",
         "0"
        ],
        [
         "32",
         "41_left",
         "0"
        ],
        [
         "33",
         "41_right",
         "0"
        ],
        [
         "34",
         "42_left",
         "0"
        ],
        [
         "35",
         "42_right",
         "0"
        ],
        [
         "36",
         "46_left",
         "0"
        ],
        [
         "37",
         "46_right",
         "0"
        ],
        [
         "38",
         "47_left",
         "0"
        ],
        [
         "39",
         "47_right",
         "0"
        ],
        [
         "40",
         "49_left",
         "0"
        ],
        [
         "41",
         "49_right",
         "0"
        ],
        [
         "43",
         "51_right",
         "0"
        ],
        [
         "44",
         "52_left",
         "0"
        ],
        [
         "45",
         "52_right",
         "0"
        ],
        [
         "48",
         "56_left",
         "0"
        ],
        [
         "49",
         "56_right",
         "0"
        ],
        [
         "50",
         "57_left",
         "0"
        ],
        [
         "51",
         "57_right",
         "0"
        ],
        [
         "52",
         "58_left",
         "0"
        ],
        [
         "53",
         "58_right",
         "0"
        ],
        [
         "54",
         "59_left",
         "0"
        ],
        [
         "55",
         "59_right",
         "0"
        ],
        [
         "56",
         "60_left",
         "0"
        ],
        [
         "57",
         "60_right",
         "0"
        ],
        [
         "58",
         "62_left",
         "0"
        ],
        [
         "59",
         "62_right",
         "0"
        ]
       ],
       "shape": {
        "columns": 2,
        "rows": 26518
       }
      },
      "text/html": [
       "<div>\n",
       "<style scoped>\n",
       "    .dataframe tbody tr th:only-of-type {\n",
       "        vertical-align: middle;\n",
       "    }\n",
       "\n",
       "    .dataframe tbody tr th {\n",
       "        vertical-align: top;\n",
       "    }\n",
       "\n",
       "    .dataframe thead th {\n",
       "        text-align: right;\n",
       "    }\n",
       "</style>\n",
       "<table border=\"1\" class=\"dataframe\">\n",
       "  <thead>\n",
       "    <tr style=\"text-align: right;\">\n",
       "      <th></th>\n",
       "      <th>image</th>\n",
       "      <th>level</th>\n",
       "    </tr>\n",
       "  </thead>\n",
       "  <tbody>\n",
       "    <tr>\n",
       "      <th>0</th>\n",
       "      <td>10_left</td>\n",
       "      <td>0</td>\n",
       "    </tr>\n",
       "    <tr>\n",
       "      <th>1</th>\n",
       "      <td>10_right</td>\n",
       "      <td>0</td>\n",
       "    </tr>\n",
       "    <tr>\n",
       "      <th>2</th>\n",
       "      <td>13_left</td>\n",
       "      <td>0</td>\n",
       "    </tr>\n",
       "    <tr>\n",
       "      <th>3</th>\n",
       "      <td>13_right</td>\n",
       "      <td>0</td>\n",
       "    </tr>\n",
       "    <tr>\n",
       "      <th>6</th>\n",
       "      <td>16_left</td>\n",
       "      <td>1</td>\n",
       "    </tr>\n",
       "    <tr>\n",
       "      <th>...</th>\n",
       "      <td>...</td>\n",
       "      <td>...</td>\n",
       "    </tr>\n",
       "    <tr>\n",
       "      <th>35120</th>\n",
       "      <td>44347_left</td>\n",
       "      <td>0</td>\n",
       "    </tr>\n",
       "    <tr>\n",
       "      <th>35121</th>\n",
       "      <td>44347_right</td>\n",
       "      <td>0</td>\n",
       "    </tr>\n",
       "    <tr>\n",
       "      <th>35122</th>\n",
       "      <td>44348_left</td>\n",
       "      <td>0</td>\n",
       "    </tr>\n",
       "    <tr>\n",
       "      <th>35123</th>\n",
       "      <td>44348_right</td>\n",
       "      <td>0</td>\n",
       "    </tr>\n",
       "    <tr>\n",
       "      <th>35124</th>\n",
       "      <td>44349_left</td>\n",
       "      <td>0</td>\n",
       "    </tr>\n",
       "  </tbody>\n",
       "</table>\n",
       "<p>26518 rows × 2 columns</p>\n",
       "</div>"
      ],
      "text/plain": [
       "             image  level\n",
       "0          10_left      0\n",
       "1         10_right      0\n",
       "2          13_left      0\n",
       "3         13_right      0\n",
       "6          16_left      1\n",
       "...            ...    ...\n",
       "35120   44347_left      0\n",
       "35121  44347_right      0\n",
       "35122   44348_left      0\n",
       "35123  44348_right      0\n",
       "35124   44349_left      0\n",
       "\n",
       "[26518 rows x 2 columns]"
      ]
     },
     "execution_count": 3,
     "metadata": {},
     "output_type": "execute_result"
    }
   ],
   "source": [
    "labels = pd.read_csv(os.path.join(Base_Path, \"Retina\", \"trainLabels.csv\"))\n",
    "\n",
    "filtered_df = labels[labels['level'].isin([0, 4])].copy()\n",
    "filtered_df['level'] = filtered_df['level'].replace(4, 1)\n",
    "\n",
    "# Save to a new CSV file\n",
    "filtered_df.to_csv(os.path.join(Base_Path, \"Retina\",\n",
    "                   \"labels_No_P.csv\"), index=False)\n",
    "filtered_df"
   ]
  },
  {
   "cell_type": "code",
   "execution_count": 4,
   "metadata": {},
   "outputs": [],
   "source": [
    "from torch.utils.data import Dataset\n",
    "\n",
    "\n",
    "class DiabeticRetinopathy(Dataset):\n",
    "    \"\"\"\n",
    "    Dataset for diabetic retinopathy images and their labels.\n",
    "\n",
    "    Parameters:\n",
    "    base_path (str): The base path to the dataset directory.\n",
    "    tfs (callable, optional): Transformations to be applied to the images.\n",
    "    \"\"\"\n",
    "\n",
    "    def __init__(self, base_path: str, tfs: Optional[callable] = None):\n",
    "        self.train_path = os.path.join(base_path, 'Retina', 'train')\n",
    "        self.labels = pd.read_csv(os.path.join(\n",
    "            base_path, 'Retina', 'trainLabels.csv'))\n",
    "        self.tfs = tfs\n",
    "\n",
    "    def __len__(self) -> int:\n",
    "        return len(self.labels)\n",
    "\n",
    "    def _load_item(self, idx: int) -> Tuple[Image.Image, int]:\n",
    "        img_idx = self.labels.iloc[idx]['image']\n",
    "        label = self.labels.iloc[idx]['level']\n",
    "        try:\n",
    "            img = Image.open(os.path.expanduser(\n",
    "                os.path.join(self.train_path, img_idx + '.jpeg')))\n",
    "        except (FileNotFoundError, UnidentifiedImageError) as e:\n",
    "            print(f\"Error loading image {img_idx}: {e}\")\n",
    "            return None, label\n",
    "        return img, label\n",
    "\n",
    "    def __getitem__(self, idx: int) -> Tuple[Image.Image, int]:\n",
    "        img, label = self._load_item(idx)\n",
    "        if self.tfs:\n",
    "            img = self.tfs(img)\n",
    "        return img, label"
   ]
  },
  {
   "cell_type": "code",
   "execution_count": 6,
   "metadata": {},
   "outputs": [],
   "source": [
    "retina_dataset = DiabeticRetinopathy(\n",
    "    base_path=Base_Path)"
   ]
  },
  {
   "cell_type": "code",
   "execution_count": 7,
   "metadata": {},
   "outputs": [],
   "source": [
    "img, label = retina_dataset[6754]"
   ]
  },
  {
   "cell_type": "code",
   "execution_count": 8,
   "metadata": {},
   "outputs": [
    {
     "data": {
      "text/plain": [
       "35126"
      ]
     },
     "execution_count": 8,
     "metadata": {},
     "output_type": "execute_result"
    }
   ],
   "source": [
    "len(retina_dataset)"
   ]
  },
  {
   "cell_type": "code",
   "execution_count": 9,
   "metadata": {},
   "outputs": [
    {
     "data": {
      "text/plain": [
       "(3888, 2592)"
      ]
     },
     "execution_count": 9,
     "metadata": {},
     "output_type": "execute_result"
    }
   ],
   "source": [
    "img.size"
   ]
  },
  {
   "cell_type": "code",
   "execution_count": 10,
   "metadata": {},
   "outputs": [
    {
     "data": {
      "text/plain": [
       "array([71, 50, 45], dtype=uint8)"
      ]
     },
     "execution_count": 10,
     "metadata": {},
     "output_type": "execute_result"
    }
   ],
   "source": [
    "img_np = np.array(img)\n",
    "img_np[1000, 1000]"
   ]
  },
  {
   "cell_type": "code",
   "execution_count": 11,
   "metadata": {},
   "outputs": [
    {
     "data": {
      "text/plain": [
       "<matplotlib.image.AxesImage at 0x758c058a3d10>"
      ]
     },
     "execution_count": 11,
     "metadata": {},
     "output_type": "execute_result"
    },
    {
     "data": {
      "image/png": "[encoded data removed]",
      "text/plain": [
       "<Figure size 640x480 with 1 Axes>"
      ]
     },
     "metadata": {},
     "output_type": "display_data"
    }
   ],
   "source": [
    "plt.imshow(img)"
   ]
  },
  {
   "cell_type": "code",
   "execution_count": 12,
   "metadata": {},
   "outputs": [
    {
     "data": {
      "text/plain": [
       "<matplotlib.image.AxesImage at 0x758b3803e190>"
      ]
     },
     "execution_count": 12,
     "metadata": {},
     "output_type": "execute_result"
    },
    {
     "data": {
      "image/png": "[encoded data removed]",
      "text/plain": [
       "<Figure size 640x480 with 1 Axes>"
      ]
     },
     "metadata": {},
     "output_type": "display_data"
    }
   ],
   "source": [
    "plt.imshow(img)"
   ]
  },
  {
   "cell_type": "code",
   "execution_count": 13,
   "metadata": {},
   "outputs": [
    {
     "name": "stdout",
     "output_type": "stream",
     "text": [
      "min of pixel intensities:0\n",
      "max of pixel instensities:163\n"
     ]
    }
   ],
   "source": [
    "# let's look at pixel intensities\n",
    "print(f'min of pixel intensities:{img_np.min()}')\n",
    "\n",
    "print(f'max of pixel instensities:{img_np.max()}')"
   ]
  },
  {
   "cell_type": "code",
   "execution_count": 14,
   "metadata": {},
   "outputs": [
    {
     "data": {
      "text/plain": [
       "numpy.ndarray"
      ]
     },
     "execution_count": 14,
     "metadata": {},
     "output_type": "execute_result"
    }
   ],
   "source": [
    "type(img_np)"
   ]
  },
  {
   "cell_type": "code",
   "execution_count": 15,
   "metadata": {},
   "outputs": [
    {
     "name": "stdout",
     "output_type": "stream",
     "text": [
      "35126\n"
     ]
    }
   ],
   "source": [
    "print(len(retina_dataset))"
   ]
  },
  {
   "cell_type": "code",
   "execution_count": 26,
   "metadata": {},
   "outputs": [
    {
     "data": {
      "application/vnd.microsoft.datawrangler.viewer.v0+json": {
       "columns": [
        {
         "name": "index",
         "rawType": "int64",
         "type": "integer"
        },
        {
         "name": "image",
         "rawType": "object",
         "type": "string"
        },
        {
         "name": "level",
         "rawType": "int64",
         "type": "integer"
        }
       ],
       "ref": "daeeccb8-e4f4-4ce7-85d2-6f96e1ae47a2",
       "rows": [
        [
         "0",
         "10_left",
         "0"
        ],
        [
         "1",
         "10_right",
         "0"
        ],
        [
         "2",
         "13_left",
         "0"
        ],
        [
         "3",
         "13_right",
         "0"
        ],
        [
         "4",
         "15_left",
         "1"
        ],
        [
         "5",
         "15_right",
         "2"
        ],
        [
         "6",
         "16_left",
         "4"
        ],
        [
         "7",
         "16_right",
         "4"
        ],
        [
         "8",
         "17_left",
         "0"
        ],
        [
         "9",
         "17_right",
         "1"
        ],
        [
         "10",
         "19_left",
         "0"
        ],
        [
         "11",
         "19_right",
         "0"
        ],
        [
         "12",
         "20_left",
         "0"
        ],
        [
         "13",
         "20_right",
         "0"
        ],
        [
         "14",
         "21_left",
         "0"
        ],
        [
         "15",
         "21_right",
         "0"
        ],
        [
         "16",
         "22_left",
         "0"
        ],
        [
         "17",
         "22_right",
         "0"
        ],
        [
         "18",
         "23_left",
         "0"
        ],
        [
         "19",
         "23_right",
         "0"
        ],
        [
         "20",
         "25_left",
         "0"
        ],
        [
         "21",
         "25_right",
         "0"
        ],
        [
         "22",
         "30_left",
         "1"
        ],
        [
         "23",
         "30_right",
         "2"
        ],
        [
         "24",
         "31_left",
         "0"
        ],
        [
         "25",
         "31_right",
         "0"
        ],
        [
         "26",
         "33_left",
         "0"
        ],
        [
         "27",
         "33_right",
         "0"
        ],
        [
         "28",
         "36_left",
         "1"
        ],
        [
         "29",
         "36_right",
         "0"
        ],
        [
         "30",
         "40_left",
         "2"
        ],
        [
         "31",
         "40_right",
         "0"
        ],
        [
         "32",
         "41_left",
         "0"
        ],
        [
         "33",
         "41_right",
         "0"
        ],
        [
         "34",
         "42_left",
         "0"
        ],
        [
         "35",
         "42_right",
         "0"
        ],
        [
         "36",
         "46_left",
         "0"
        ],
        [
         "37",
         "46_right",
         "0"
        ],
        [
         "38",
         "47_left",
         "0"
        ],
        [
         "39",
         "47_right",
         "0"
        ],
        [
         "40",
         "49_left",
         "0"
        ],
        [
         "41",
         "49_right",
         "0"
        ],
        [
         "42",
         "51_left",
         "2"
        ],
        [
         "43",
         "51_right",
         "0"
        ],
        [
         "44",
         "52_left",
         "0"
        ],
        [
         "45",
         "52_right",
         "0"
        ],
        [
         "46",
         "54_left",
         "2"
        ],
        [
         "47",
         "54_right",
         "2"
        ],
        [
         "48",
         "56_left",
         "0"
        ],
        [
         "49",
         "56_right",
         "0"
        ]
       ],
       "shape": {
        "columns": 2,
        "rows": 35126
       }
      },
      "text/html": [
       "<div>\n",
       "<style scoped>\n",
       "    .dataframe tbody tr th:only-of-type {\n",
       "        vertical-align: middle;\n",
       "    }\n",
       "\n",
       "    .dataframe tbody tr th {\n",
       "        vertical-align: top;\n",
       "    }\n",
       "\n",
       "    .dataframe thead th {\n",
       "        text-align: right;\n",
       "    }\n",
       "</style>\n",
       "<table border=\"1\" class=\"dataframe\">\n",
       "  <thead>\n",
       "    <tr style=\"text-align: right;\">\n",
       "      <th></th>\n",
       "      <th>image</th>\n",
       "      <th>level</th>\n",
       "    </tr>\n",
       "  </thead>\n",
       "  <tbody>\n",
       "    <tr>\n",
       "      <th>0</th>\n",
       "      <td>10_left</td>\n",
       "      <td>0</td>\n",
       "    </tr>\n",
       "    <tr>\n",
       "      <th>1</th>\n",
       "      <td>10_right</td>\n",
       "      <td>0</td>\n",
       "    </tr>\n",
       "    <tr>\n",
       "      <th>2</th>\n",
       "      <td>13_left</td>\n",
       "      <td>0</td>\n",
       "    </tr>\n",
       "    <tr>\n",
       "      <th>3</th>\n",
       "      <td>13_right</td>\n",
       "      <td>0</td>\n",
       "    </tr>\n",
       "    <tr>\n",
       "      <th>4</th>\n",
       "      <td>15_left</td>\n",
       "      <td>1</td>\n",
       "    </tr>\n",
       "    <tr>\n",
       "      <th>...</th>\n",
       "      <td>...</td>\n",
       "      <td>...</td>\n",
       "    </tr>\n",
       "    <tr>\n",
       "      <th>35121</th>\n",
       "      <td>44347_right</td>\n",
       "      <td>0</td>\n",
       "    </tr>\n",
       "    <tr>\n",
       "      <th>35122</th>\n",
       "      <td>44348_left</td>\n",
       "      <td>0</td>\n",
       "    </tr>\n",
       "    <tr>\n",
       "      <th>35123</th>\n",
       "      <td>44348_right</td>\n",
       "      <td>0</td>\n",
       "    </tr>\n",
       "    <tr>\n",
       "      <th>35124</th>\n",
       "      <td>44349_left</td>\n",
       "      <td>0</td>\n",
       "    </tr>\n",
       "    <tr>\n",
       "      <th>35125</th>\n",
       "      <td>44349_right</td>\n",
       "      <td>1</td>\n",
       "    </tr>\n",
       "  </tbody>\n",
       "</table>\n",
       "<p>35126 rows × 2 columns</p>\n",
       "</div>"
      ],
      "text/plain": [
       "             image  level\n",
       "0          10_left      0\n",
       "1         10_right      0\n",
       "2          13_left      0\n",
       "3         13_right      0\n",
       "4          15_left      1\n",
       "...            ...    ...\n",
       "35121  44347_right      0\n",
       "35122   44348_left      0\n",
       "35123  44348_right      0\n",
       "35124   44349_left      0\n",
       "35125  44349_right      1\n",
       "\n",
       "[35126 rows x 2 columns]"
      ]
     },
     "execution_count": 26,
     "metadata": {},
     "output_type": "execute_result"
    }
   ],
   "source": [
    "retina_dataset.labels"
   ]
  },
  {
   "cell_type": "code",
   "execution_count": null,
   "metadata": {},
   "outputs": [
    {
     "data": {
      "application/vnd.microsoft.datawrangler.viewer.v0+json": {
       "columns": [
        {
         "name": "index",
         "rawType": "int64",
         "type": "integer"
        },
        {
         "name": "image",
         "rawType": "object",
         "type": "string"
        },
        {
         "name": "level",
         "rawType": "int64",
         "type": "integer"
        }
       ],
       "ref": "1c69f28c-3e39-4fd1-8b40-55bd65a98175",
       "rows": [
        [
         "0",
         "10_left",
         "0"
        ],
        [
         "1",
         "10_right",
         "0"
        ],
        [
         "2",
         "13_left",
         "0"
        ],
        [
         "3",
         "13_right",
         "0"
        ],
        [
         "8",
         "17_left",
         "0"
        ],
        [
         "10",
         "19_left",
         "0"
        ],
        [
         "11",
         "19_right",
         "0"
        ],
        [
         "12",
         "20_left",
         "0"
        ],
        [
         "13",
         "20_right",
         "0"
        ],
        [
         "14",
         "21_left",
         "0"
        ],
        [
         "15",
         "21_right",
         "0"
        ],
        [
         "16",
         "22_left",
         "0"
        ],
        [
         "17",
         "22_right",
         "0"
        ],
        [
         "18",
         "23_left",
         "0"
        ],
        [
         "19",
         "23_right",
         "0"
        ],
        [
         "20",
         "25_left",
         "0"
        ],
        [
         "21",
         "25_right",
         "0"
        ],
        [
         "24",
         "31_left",
         "0"
        ],
        [
         "25",
         "31_right",
         "0"
        ],
        [
         "26",
         "33_left",
         "0"
        ],
        [
         "27",
         "33_right",
         "0"
        ],
        [
         "29",
         "36_right",
         "0"
        ],
        [
         "31",
         "40_right",
         "0"
        ],
        [
         "32",
         "41_left",
         "0"
        ],
        [
         "33",
         "41_right",
         "0"
        ],
        [
         "34",
         "42_left",
         "0"
        ],
        [
         "35",
         "42_right",
         "0"
        ],
        [
         "36",
         "46_left",
         "0"
        ],
        [
         "37",
         "46_right",
         "0"
        ],
        [
         "38",
         "47_left",
         "0"
        ],
        [
         "39",
         "47_right",
         "0"
        ],
        [
         "40",
         "49_left",
         "0"
        ],
        [
         "41",
         "49_right",
         "0"
        ],
        [
         "43",
         "51_right",
         "0"
        ],
        [
         "44",
         "52_left",
         "0"
        ],
        [
         "45",
         "52_right",
         "0"
        ],
        [
         "48",
         "56_left",
         "0"
        ],
        [
         "49",
         "56_right",
         "0"
        ],
        [
         "50",
         "57_left",
         "0"
        ],
        [
         "51",
         "57_right",
         "0"
        ],
        [
         "52",
         "58_left",
         "0"
        ],
        [
         "53",
         "58_right",
         "0"
        ],
        [
         "54",
         "59_left",
         "0"
        ],
        [
         "55",
         "59_right",
         "0"
        ],
        [
         "56",
         "60_left",
         "0"
        ],
        [
         "57",
         "60_right",
         "0"
        ],
        [
         "58",
         "62_left",
         "0"
        ],
        [
         "59",
         "62_right",
         "0"
        ],
        [
         "60",
         "64_left",
         "0"
        ],
        [
         "61",
         "64_right",
         "0"
        ]
       ],
       "shape": {
        "columns": 2,
        "rows": 25810
       }
      },
      "text/html": [
       "<div>\n",
       "<style scoped>\n",
       "    .dataframe tbody tr th:only-of-type {\n",
       "        vertical-align: middle;\n",
       "    }\n",
       "\n",
       "    .dataframe tbody tr th {\n",
       "        vertical-align: top;\n",
       "    }\n",
       "\n",
       "    .dataframe thead th {\n",
       "        text-align: right;\n",
       "    }\n",
       "</style>\n",
       "<table border=\"1\" class=\"dataframe\">\n",
       "  <thead>\n",
       "    <tr style=\"text-align: right;\">\n",
       "      <th></th>\n",
       "      <th>image</th>\n",
       "      <th>level</th>\n",
       "    </tr>\n",
       "  </thead>\n",
       "  <tbody>\n",
       "    <tr>\n",
       "      <th>0</th>\n",
       "      <td>10_left</td>\n",
       "      <td>0</td>\n",
       "    </tr>\n",
       "    <tr>\n",
       "      <th>1</th>\n",
       "      <td>10_right</td>\n",
       "      <td>0</td>\n",
       "    </tr>\n",
       "    <tr>\n",
       "      <th>2</th>\n",
       "      <td>13_left</td>\n",
       "      <td>0</td>\n",
       "    </tr>\n",
       "    <tr>\n",
       "      <th>3</th>\n",
       "      <td>13_right</td>\n",
       "      <td>0</td>\n",
       "    </tr>\n",
       "    <tr>\n",
       "      <th>8</th>\n",
       "      <td>17_left</td>\n",
       "      <td>0</td>\n",
       "    </tr>\n",
       "    <tr>\n",
       "      <th>...</th>\n",
       "      <td>...</td>\n",
       "      <td>...</td>\n",
       "    </tr>\n",
       "    <tr>\n",
       "      <th>35120</th>\n",
       "      <td>44347_left</td>\n",
       "      <td>0</td>\n",
       "    </tr>\n",
       "    <tr>\n",
       "      <th>35121</th>\n",
       "      <td>44347_right</td>\n",
       "      <td>0</td>\n",
       "    </tr>\n",
       "    <tr>\n",
       "      <th>35122</th>\n",
       "      <td>44348_left</td>\n",
       "      <td>0</td>\n",
       "    </tr>\n",
       "    <tr>\n",
       "      <th>35123</th>\n",
       "      <td>44348_right</td>\n",
       "      <td>0</td>\n",
       "    </tr>\n",
       "    <tr>\n",
       "      <th>35124</th>\n",
       "      <td>44349_left</td>\n",
       "      <td>0</td>\n",
       "    </tr>\n",
       "  </tbody>\n",
       "</table>\n",
       "<p>25810 rows × 2 columns</p>\n",
       "</div>"
      ],
      "text/plain": [
       "             image  level\n",
       "0          10_left      0\n",
       "1         10_right      0\n",
       "2          13_left      0\n",
       "3         13_right      0\n",
       "8          17_left      0\n",
       "...            ...    ...\n",
       "35120   44347_left      0\n",
       "35121  44347_right      0\n",
       "35122   44348_left      0\n",
       "35123  44348_right      0\n",
       "35124   44349_left      0\n",
       "\n",
       "[25810 rows x 2 columns]"
      ]
     },
     "execution_count": 25,
     "metadata": {},
     "output_type": "execute_result"
    }
   ],
   "source": [
    "retina_dataset.labels[retina_dataset.labels['level'] == 0]"
   ]
  },
  {
   "cell_type": "markdown",
   "metadata": {},
   "source": [
    "- Loading the pretariend model along with weighst\n",
    "\n",
    "- Extracting embeddings from the last layer on groups \n",
    "\n",
    "- Checking statitical test to see if they are statistically different\n",
    "\n",
    "- Uisng Grad-Cam for back-probabgating test-statistic and visualise differences "
   ]
  },
  {
   "cell_type": "code",
   "execution_count": 17,
   "metadata": {},
   "outputs": [],
   "source": [
    "import torch\n",
    "import torch.nn as nn\n",
    "import torch.nn.functional as F\n",
    "from torch.utils.data import Dataset\n",
    "from torch.utils.data import DataLoader\n",
    "from torchvision.models import resnet50, ResNet50_Weights\n",
    "\n",
    "\n",
    "HID_DIM = 2048\n",
    "OUT_DIM = 128\n",
    "\n",
    "\n",
    "# Resnet backbone\n",
    "class resnet50_fext(nn.Module):\n",
    "    def __init__(self, pretrained=True):\n",
    "        super().__init__()\n",
    "        if pretrained:\n",
    "            backbone = resnet50(weights=ResNet50_Weights.IMAGENET1K_V2)\n",
    "        else:\n",
    "            backbone = resnet50(weights=None)\n",
    "        self.encoder = nn.Sequential(*list(backbone.children())[:-1])\n",
    "\n",
    "    def forward(self, x):\n",
    "        embedding = self.encoder(x)\n",
    "        embedding = embedding.view(embedding.size(0), -1)\n",
    "        return embedding\n",
    "\n",
    "\n",
    "# Linear model\n",
    "class MLP(nn.Module):\n",
    "    def __init__(self, in_dim, mlp_hid_size, proj_size):\n",
    "        super().__init__()\n",
    "        self.head = nn.Sequential(nn.Linear(in_dim, mlp_hid_size),\n",
    "                                  nn.BatchNorm1d(mlp_hid_size),\n",
    "                                  nn.ReLU(),\n",
    "                                  nn.Linear(mlp_hid_size, proj_size))\n",
    "\n",
    "    def forward(self, x):\n",
    "        x = self.head(x)\n",
    "        return (x)\n",
    "\n",
    "\n",
    "# Byol model\n",
    "class BYOL(nn.Module):\n",
    "    def __init__(self, net, backbone, hid_dim, out_dim):\n",
    "        super().__init__()\n",
    "        self.net = net\n",
    "        self.encoder = nn.Sequential(*list(backbone.children())[:-1])\n",
    "        self.projection = MLP(in_dim=backbone.fc.in_features,\n",
    "                              mlp_hid_size=hid_dim, proj_size=out_dim)\n",
    "        self.prediction = MLP(\n",
    "            in_dim=out_dim, mlp_hid_size=hid_dim, proj_size=out_dim)\n",
    "\n",
    "    def forward(self, x):\n",
    "        embedding = self.encoder(x)\n",
    "        embedding = embedding.view(embedding.size()[0], -1)\n",
    "        project = self.projection(embedding)\n",
    "\n",
    "        if self.net == 'target':\n",
    "            return (project)\n",
    "        predict = self.prediction(project)\n",
    "        return (predict)\n",
    "\n",
    "\n",
    "# SimCLR model\n",
    "class SimCLR(nn.Module):\n",
    "    def __init__(self, backbone, hid_dim, out_dim):\n",
    "        super(SimCLR, self).__init__()\n",
    "        # we get representations from avg_pooling layer\n",
    "        self.encoder = torch.nn.Sequential(*list(backbone.children())[:-1])\n",
    "        self.projection = MLP(in_dim=backbone.fc.in_features,\n",
    "                              mlp_hid_size=hid_dim, proj_size=out_dim)\n",
    "\n",
    "    def forward(self, x):\n",
    "        embedding = self.encoder(x)\n",
    "        embedding = embedding.view(embedding.size()[0], -1)\n",
    "        project = self.projection(embedding)\n",
    "        return (project)"
   ]
  },
  {
   "cell_type": "code",
   "execution_count": 18,
   "metadata": {},
   "outputs": [],
   "source": [
    "checkpoint_path = \"2_last_sclr.pt\"\n",
    "device = torch.device('cuda:0' if torch.cuda.is_available() else 'cpu')\n",
    "\n",
    "# Load checkpoint\n",
    "state_dict = torch.load(\n",
    "    checkpoint_path, map_location=device, weights_only=False)\n",
    "\n",
    "# Initialize backbone (without ImageNet weights since we're loading custom ones)\n",
    "backbone = resnet50(weights=None)\n",
    "\n",
    "# Initialize model and load weights\n",
    "model = SimCLR(backbone, hid_dim=2048, out_dim=128).to(device)\n",
    "model.load_state_dict(state_dict['model'])\n",
    "\n",
    "# Extract the encoder (ResNet without final fc layer)\n",
    "encoder = model.encoder"
   ]
  },
  {
   "cell_type": "code",
   "execution_count": 19,
   "metadata": {},
   "outputs": [],
   "source": [
    "# If I want to use a smaller dimension I can use a FC layer as follows\n",
    "\n",
    "\n",
    "reduced_dim = 512  # You can adjust this as needed, e.g., 512, 256, 128\n",
    "fc_layer = nn.Linear(2048, reduced_dim).to(device)\n",
    "\n",
    "# it outputs hidden representations of dimension 512\n",
    "reduced_encoder = nn.Sequential(encoder, fc_layer)"
   ]
  },
  {
   "cell_type": "code",
   "execution_count": 20,
   "metadata": {},
   "outputs": [
    {
     "name": "stdout",
     "output_type": "stream",
     "text": [
      "Number of available CUDA devices: 8\n",
      "Device 0: NVIDIA A100-SXM4-40GB\n",
      "Device 1: NVIDIA A100-SXM4-40GB\n",
      "Device 2: NVIDIA A100-SXM4-40GB\n",
      "Device 3: NVIDIA A100-SXM4-40GB\n",
      "Device 4: NVIDIA A100-SXM4-40GB\n",
      "Device 5: NVIDIA A100-SXM4-40GB\n",
      "Device 6: NVIDIA A100-SXM4-40GB\n",
      "Device 7: NVIDIA A100-SXM4-40GB\n"
     ]
    }
   ],
   "source": [
    "# Check if CUDA is available\n",
    "if torch.cuda.is_available():\n",
    "    num_devices = torch.cuda.device_count()\n",
    "    print(f\"Number of available CUDA devices: {num_devices}\")\n",
    "\n",
    "    for i in range(num_devices):\n",
    "        print(f\"Device {i}: {torch.cuda.get_device_name(i)}\")\n",
    "else:\n",
    "    print(\"CUDA is not available on this system.\")"
   ]
  },
  {
   "cell_type": "code",
   "execution_count": 21,
   "metadata": {},
   "outputs": [
    {
     "name": "stdout",
     "output_type": "stream",
     "text": [
      "torch.Size([512])\n"
     ]
    }
   ],
   "source": [
    "sample_input = torch.randn(1, 3, 224, 224).to(device)\n",
    "encoder_output = encoder(sample_input).squeeze()\n",
    "latent_representation = fc_layer(encoder_output)\n",
    "print(latent_representation.shape)"
   ]
  },
  {
   "cell_type": "code",
   "execution_count": 22,
   "metadata": {},
   "outputs": [],
   "source": [
    "def get_embeddings_from_numpy(encoder, images_np, device, gr=1, batch_size=32):\n",
    "    \"\"\"Extract embeddings from a numpy array of grayscale images using a pretrained encoder.\"\"\"\n",
    "    encoder.eval()\n",
    "    embeddings_list = []\n",
    "\n",
    "    # ImageNet mean and std\n",
    "    IMAGENET_MEAN = torch.tensor(\n",
    "        [0.485, 0.456, 0.406]).view(1, 3, 1, 1).to(device)\n",
    "    IMAGENET_STD = torch.tensor(\n",
    "        [0.229, 0.224, 0.225]).view(1, 3, 1, 1).to(device)\n",
    "\n",
    "    # Convert grayscale (N, 1, H, W) to (N, 3, H, W)\n",
    "    images_tensor = torch.tensor(images_np).unsqueeze(1).float().to(device)\n",
    "    images_tensor = images_tensor.repeat(1, 3, 1, 1)\n",
    "\n",
    "    # Apply ImageNet normalization\n",
    "    images_tensor = (images_tensor - IMAGENET_MEAN) / IMAGENET_STD\n",
    "\n",
    "    reduced_dim = 512  # You can adjust this as needed, e.g., 512, 256, 128\n",
    "    fc_layer = nn.Linear(2048, reduced_dim).to(device)\n",
    "\n",
    "    print(f'shape of tensor:{images_tensor.shape}')\n",
    "\n",
    "    # Batching\n",
    "    num_samples = images_tensor.size(0)\n",
    "    for i in range(0, num_samples, batch_size):\n",
    "        batch = images_tensor[i:i + batch_size]\n",
    "        # Ensure the batch is on the right device\n",
    "        batch = batch.to(device)\n",
    "        with torch.no_grad():\n",
    "            embeddings = encoder(batch)\n",
    "            embeddings = embeddings.view(embeddings.size(0), -1)\n",
    "            # embeddings = fc_layer(embeddings)\n",
    "            embeddings_list.append(embeddings.cpu().numpy())\n",
    "\n",
    "    embed_dim = embeddings_list[0].shape[1]\n",
    "    os.makedirs('./retina_embed', exist_ok=True)\n",
    "    path_embed = os.path.join(\n",
    "        './retina_embed', f'embed_gr{gr}_{embed_dim}_nr.npy')\n",
    "    gr_embed = np.vstack(embeddings_list)\n",
    "    np.save(path_embed, gr_embed)\n",
    "    print(f'shape of embeddings:{gr_embed.shape}')\n",
    "\n",
    "    return gr_embed"
   ]
  },
  {
   "cell_type": "code",
   "execution_count": 27,
   "metadata": {},
   "outputs": [],
   "source": [
    "from torchvision import transforms\n",
    "\n",
    "\n",
    "def stratified_sampledataset(dataset: DiabeticRetinopathy, healthy_size: int, unhealthy_size: int, rnd_st: int = 42) -> Tuple[pd.DataFrame, pd.DataFrame]:\n",
    "    # Separate healthy samples (class 0)\n",
    "    healthy_samples = dataset.labels[dataset.labels['level'] == 0]\n",
    "    healthy_sampled = healthy_samples.sample(\n",
    "        n=healthy_size, random_state=rnd_st).reset_index(drop=True)\n",
    "\n",
    "    # Separate unhealthy samples (classes 1-4)\n",
    "    unhealthy_samples = dataset.labels[dataset.labels['level'].isin([\n",
    "                                                                    1, 2, 3, 4])]\n",
    "\n",
    "    # Determine total counts for stratified sampling\n",
    "    total_unhealthy = unhealthy_samples['level'].value_counts()\n",
    "    total_samples = unhealthy_size\n",
    "\n",
    "    # Calculate the proportion of samples for each class => A series\n",
    "    proportions = (total_unhealthy / total_unhealthy.sum()) * total_samples\n",
    "    proportions = proportions.round().astype(int)  # Round to get integer counts\n",
    "\n",
    "    unhealthy_sampled = []\n",
    "    for label, count in proportions.items():\n",
    "        if count > 0:  # Ensure we only sample if there are available samples\n",
    "            class_samples = unhealthy_samples[unhealthy_samples['level'] == label]\n",
    "            # it samples n rows from the rows of dataframe\n",
    "            sampled_class = class_samples.sample(n=count, random_state=rnd_st)\n",
    "            unhealthy_sampled.append(sampled_class)\n",
    "\n",
    "    unhealthy_sampled_df = pd.concat(unhealthy_sampled).reset_index(drop=True)\n",
    "    return healthy_sampled, unhealthy_sampled_df\n",
    "\n",
    "\n",
    "class SampledDiabeticRetinopathy(Dataset):\n",
    "    def __init__(self, dataframe: pd.DataFrame, base_path: str, tfs: Optional[callable] = None):\n",
    "        self.dataframe = dataframe.reset_index(drop=True)\n",
    "        self.base_path = base_path\n",
    "        self.tfs = tfs\n",
    "\n",
    "    def __len__(self) -> int:\n",
    "        return len(self.dataframe)\n",
    "\n",
    "    def __getitem__(self, idx: int) -> Tuple[Image.Image, int]:\n",
    "        img_idx = self.dataframe.iloc[idx]['image']\n",
    "        label = self.dataframe.iloc[idx]['level']\n",
    "        img = Image.open(os.path.join(\n",
    "            self.base_path, 'Retina', 'train', img_idx + '.jpeg'))\n",
    "        if self.tfs:\n",
    "            img = self.tfs(img)\n",
    "        return img, label\n",
    "\n",
    "\n",
    "def get_tfms(size: int = 224, interpolation=Image.BILINEAR) -> transforms.Compose:\n",
    "    mean = [0.485, 0.456, 0.406]\n",
    "    std = [0.229, 0.224, 0.225]\n",
    "    norm = transforms.Normalize(mean=mean, std=std)\n",
    "    trsf = transforms.Compose([\n",
    "        transforms.Resize(size=(size, size)),\n",
    "        transforms.ToTensor(),\n",
    "        norm,\n",
    "    ])\n",
    "    return trsf\n",
    "\n",
    "\n",
    "with open('./src/config.json', 'r') as config_file:\n",
    "    config = json.load(config_file)\n",
    "\n",
    "\n",
    "def get_groups(config: dict = config) -> Tuple[SampledDiabeticRetinopathy, SampledDiabeticRetinopathy]:\n",
    "    \"\"\"\n",
    "    Groups from diabetic retinopathy healthy(class=0) and unhealthy(class=1..4).\n",
    "\n",
    "    Parameters:\n",
    "    config (dict): A dictionary containing the parameters.\n",
    "    \"\"\"\n",
    "\n",
    "    base_path = Path(config['base_path'])\n",
    "    healthy_size = config['sample_size']['healthy_size']\n",
    "    unhealthy_size = config['sample_size']['unhealthy_size']\n",
    "    random_state = config['random_state']\n",
    "    size = config['size']\n",
    "\n",
    "    full_dataset = DiabeticRetinopathy(\n",
    "        base_path=base_path, tfs=get_tfms(size=size))\n",
    "    healthy, unhealthy = stratified_sampledataset(\n",
    "        full_dataset, healthy_size, unhealthy_size, rnd_st=random_state)\n",
    "\n",
    "    healthy_ds = SampledDiabeticRetinopathy(\n",
    "        healthy, base_path=base_path, tfs=get_tfms())\n",
    "    unhealthy_ds = SampledDiabeticRetinopathy(\n",
    "        unhealthy, base_path=base_path, tfs=get_tfms())\n",
    "\n",
    "    return (healthy_ds, unhealthy_ds)"
   ]
  },
  {
   "cell_type": "code",
   "execution_count": 28,
   "metadata": {},
   "outputs": [
    {
     "name": "stdout",
     "output_type": "stream",
     "text": [
      "Saved embeddings to embeddings/retina_embeddings.h5\n"
     ]
    }
   ],
   "source": [
    "import h5py\n",
    "\n",
    "\n",
    "def produce_and_save_embeddings(config,\n",
    "                                checkpoint_path: str,\n",
    "                                hdf5_path: str,\n",
    "                                batch_size: int = 32,\n",
    "                                device: torch.device = None):\n",
    "    \"\"\"\n",
    "    Loads a pretrained SimCLR model and produces embeddings for both healthy\n",
    "    and unhealthy retina samples, then saves them in a single HDF5 file with two datasets.\n",
    "\n",
    "    Args:\n",
    "        config (dict): Configuration dictionary containing base_path, sample sizes, random_state, size.\n",
    "        checkpoint_path (str): Path to the SimCLR checkpoint (.pt) containing 'model' weights.\n",
    "        hdf5_path (str): Path where the HDF5 file will be created.\n",
    "        batch_size (int): Batch size for DataLoader.\n",
    "        device (torch.device): torch.device('cuda' or 'cpu'). If None, auto-select.\n",
    "    \"\"\"\n",
    "    # 1. Device setup\n",
    "    if device is None:\n",
    "        device = torch.device('cuda' if torch.cuda.is_available() else 'cpu')\n",
    "\n",
    "    # 2. Instantiate SimCLR model and load weights\n",
    "    backbone = resnet50(weights=None)\n",
    "    model = SimCLR(backbone, hid_dim=2048, out_dim=128).to(device)\n",
    "    ckpt = torch.load(checkpoint_path, map_location=device, weights_only=False)\n",
    "    model.load_state_dict(ckpt['model'])\n",
    "    model.eval()\n",
    "\n",
    "    # 3. Prepare datasets\n",
    "    healthy_ds, unhealthy_ds = get_groups(config)\n",
    "\n",
    "    # 4. Open HDF5 file\n",
    "    hdf5_path = Path(hdf5_path)\n",
    "    hdf5_path.parent.mkdir(parents=True, exist_ok=True)\n",
    "    with h5py.File(hdf5_path, 'w') as hf:\n",
    "        for name, ds in [('healthy', healthy_ds), ('unhealthy', unhealthy_ds)]:\n",
    "            # DataLoader\n",
    "            loader = DataLoader(ds, batch_size=batch_size,\n",
    "                                shuffle=False, num_workers=4, pin_memory=True)\n",
    "            n_samples = len(ds)\n",
    "\n",
    "            # Peek first batch to get embedding dimension\n",
    "            x0, _ = next(iter(loader))\n",
    "            x0 = x0.to(device)\n",
    "            with torch.no_grad():\n",
    "                emb0 = model(x0)\n",
    "            embed_dim = emb0.shape[1]\n",
    "\n",
    "            # Create dataset in HDF5\n",
    "            dset = hf.create_dataset(name, shape=(\n",
    "                n_samples, embed_dim), dtype='float32')\n",
    "\n",
    "            # Fill embeddings\n",
    "            idx = 0\n",
    "            for xb, _ in loader:\n",
    "                xb = xb.to(device)\n",
    "                with torch.no_grad():\n",
    "                    emb = model(xb).cpu().numpy()\n",
    "                batch_sz = emb.shape[0]\n",
    "                dset[idx:idx+batch_sz] = emb\n",
    "                idx += batch_sz\n",
    "\n",
    "    print(f\"Saved embeddings to {hdf5_path}\")\n",
    "\n",
    "\n",
    "os.makedirs(\"./embeddings\", exist_ok=True)\n",
    "produce_and_save_embeddings(config,\n",
    "                            checkpoint_path='2_last_sclr.pt',\n",
    "                            hdf5_path='./embeddings/retina_embeddings.h5',\n",
    "                            batch_size=64)"
   ]
  },
  {
   "cell_type": "markdown",
   "metadata": {},
   "source": [
    "### Mean of Embeddings"
   ]
  },
  {
   "cell_type": "code",
   "execution_count": null,
   "metadata": {},
   "outputs": [
    {
     "name": "stdout",
     "output_type": "stream",
     "text": [
      "Healthy mean embedding shape: (128,)\n",
      "Unhealthy mean embedding shape: (128,)\n"
     ]
    }
   ],
   "source": [
    "import h5py\n",
    "import numpy as np\n",
    "\n",
    "\n",
    "def load_group_mean_embeddings(hdf5_path):\n",
    "    \"\"\"\n",
    "    Loads embeddings from a HDF5 file and computes the mean for each group.\n",
    "\n",
    "    Args:\n",
    "        hdf5_path (str): Path to the .h5 file containing 'healthy' and 'unhealthy' datasets.\n",
    "\n",
    "    Returns:\n",
    "        mean_dict (dict): {'healthy': mean_vector, 'unhealthy': mean_vector}\n",
    "    \"\"\"\n",
    "    mean_dict = {}\n",
    "    with h5py.File(hdf5_path, 'r') as hf:\n",
    "        for group in ['healthy', 'unhealthy']:\n",
    "            data = hf[group][:]\n",
    "            group_mean = data.mean(axis=0)\n",
    "            mean_dict[group] = group_mean\n",
    "    return mean_dict\n",
    "\n",
    "\n",
    "# Example usage:\n",
    "means = load_group_mean_embeddings('./embeddings/retina_embeddings.h5')\n",
    "print(\"Healthy mean embedding shape:\", means['healthy'].shape)\n",
    "print(\"Unhealthy mean embedding shape:\", means['unhealthy'].shape)"
   ]
  },
  {
   "cell_type": "code",
   "execution_count": 62,
   "metadata": {},
   "outputs": [],
   "source": [
    "def get_groups(dataset):\n",
    "\n",
    "    group0 = []\n",
    "    group1 = []\n",
    "    i = 0\n",
    "    for img, label in dataset:\n",
    "\n",
    "        if label == 0:\n",
    "            group0.append(img)\n",
    "\n",
    "        else:\n",
    "            group1.append(img)\n",
    "\n",
    "        i += 1\n",
    "        print(f'Processed {i}: shape:{img.shape} ')\n",
    "        if i == 1000:\n",
    "            break\n",
    "\n",
    "    group0 = np.concatenate(group0, axis=0)\n",
    "    group1 = np.concatenate(group1, axis=0)\n",
    "\n",
    "    return (group0, group1)"
   ]
  },
  {
   "cell_type": "code",
   "execution_count": null,
   "metadata": {},
   "outputs": [],
   "source": [
    "group0, group1 = get_groups(retina_dataset)\n",
    "\n",
    "print(group0.shape)\n",
    "\n",
    "print(group1.shape)"
   ]
  },
  {
   "cell_type": "markdown",
   "metadata": {},
   "source": [
    "- In below operations I used ImageNet normalization technique "
   ]
  },
  {
   "cell_type": "code",
   "execution_count": null,
   "metadata": {},
   "outputs": [],
   "source": [
    "group0_embed_nr = get_embeddings_from_numpy(\n",
    "    encoder=encoder, images_np=group0, device=device, gr=1, batch_size=64)\n",
    "\n",
    "group1_embed_nr = get_embeddings_from_numpy(\n",
    "    encoder=encoder, images_np=group1, device=device, gr=2, batch_size=64)"
   ]
  },
  {
   "cell_type": "code",
   "execution_count": null,
   "metadata": {},
   "outputs": [],
   "source": [
    "group0_embed = get_embeddings_from_numpy(\n",
    "    encoder=encoder, images_np=group0, device=device, batch_size=64)\n",
    "\n",
    "group1_embed = get_embeddings_from_numpy(\n",
    "    encoder=encoder, images_np=group1, device=device, batch_size=64)"
   ]
  },
  {
   "cell_type": "code",
   "execution_count": null,
   "metadata": {},
   "outputs": [],
   "source": [
    "print(group0_embed.shape)\n",
    "\n",
    "print(group1_embed.shape)"
   ]
  },
  {
   "cell_type": "code",
   "execution_count": null,
   "metadata": {},
   "outputs": [],
   "source": [
    "path = './adni_embed'\n",
    "\n",
    "os.makedirs(path, exist_ok=True)"
   ]
  },
  {
   "cell_type": "code",
   "execution_count": null,
   "metadata": {},
   "outputs": [],
   "source": [
    "path_gr1_embed = os.path.join(path, 'embed_gr1.npy')\n",
    "\n",
    "path_gr2_embed = os.path.join(path, 'embed_gr2.npy')"
   ]
  },
  {
   "cell_type": "code",
   "execution_count": null,
   "metadata": {},
   "outputs": [],
   "source": [
    "# Now, let's save embeddings of each group\n",
    "\n",
    "np.save(path_gr1_embed, group0_embed)\n",
    "\n",
    "np.save(path_gr2_embed, group1_embed)"
   ]
  },
  {
   "cell_type": "code",
   "execution_count": null,
   "metadata": {},
   "outputs": [],
   "source": [
    "print(type(group0_embed))\n",
    "\n",
    "print(type(group1_embed))"
   ]
  },
  {
   "cell_type": "markdown",
   "metadata": {},
   "source": [
    "- I try to reduce the dimension\n",
    "\n",
    "- I chose embeddings = 512"
   ]
  },
  {
   "cell_type": "code",
   "execution_count": null,
   "metadata": {},
   "outputs": [],
   "source": [
    "group0_embed = get_embeddings_from_numpy(\n",
    "    encoder=reduced_encoder, images_np=group0, device=device, batch_size=64)\n",
    "\n",
    "group1_embed = get_embeddings_from_numpy(\n",
    "    encoder=reduced_encoder, images_np=group1, device=device, batch_size=64)"
   ]
  },
  {
   "cell_type": "code",
   "execution_count": null,
   "metadata": {},
   "outputs": [],
   "source": [
    "mmd = MMDTest(group0_embed, group1_embed)"
   ]
  },
  {
   "cell_type": "code",
   "execution_count": null,
   "metadata": {},
   "outputs": [],
   "source": [
    "p_val = mmd._compute_p_value()"
   ]
  },
  {
   "cell_type": "code",
   "execution_count": null,
   "metadata": {},
   "outputs": [],
   "source": [
    "print(p_val)"
   ]
  },
  {
   "cell_type": "code",
   "execution_count": null,
   "metadata": {},
   "outputs": [],
   "source": [
    "mmd_nr = MMDTest(group0_embed_nr, group1_embed_nr)\n",
    "\n",
    "p_val = mmd_nr._compute_p_value()"
   ]
  },
  {
   "cell_type": "code",
   "execution_count": null,
   "metadata": {},
   "outputs": [],
   "source": [
    "print(p_val)"
   ]
  },
  {
   "cell_type": "markdown",
   "metadata": {},
   "source": [
    "- They are statistically different\n",
    "\n",
    "- Now let's bcak probagte the test-statitic to see what we can visualaise\n",
    "\n",
    "- Lets also look at p-value for smaller number of samples"
   ]
  },
  {
   "cell_type": "code",
   "execution_count": null,
   "metadata": {},
   "outputs": [],
   "source": [
    "gr1_embed = np.load(path_gr1_embed)\n",
    "\n",
    "gr2_embed = np.load(path_gr2_embed)\n",
    "\n",
    "print(gr1_embed.shape)\n",
    "\n",
    "print(gr2_embed.shape)"
   ]
  },
  {
   "cell_type": "code",
   "execution_count": null,
   "metadata": {},
   "outputs": [],
   "source": [
    "gr1_embed_100 = gr1_embed[:100, :]\n",
    "\n",
    "gr2_embed_100 = gr2_embed[:100, :]"
   ]
  },
  {
   "cell_type": "code",
   "execution_count": null,
   "metadata": {},
   "outputs": [],
   "source": [
    "mmd_100 = MMDTest(gr1_embed_100, gr2_embed_100)"
   ]
  },
  {
   "cell_type": "code",
   "execution_count": null,
   "metadata": {},
   "outputs": [],
   "source": [
    "p_val = mmd_100._compute_p_value()"
   ]
  },
  {
   "cell_type": "code",
   "execution_count": null,
   "metadata": {},
   "outputs": [],
   "source": [
    "print(p_val)"
   ]
  },
  {
   "cell_type": "code",
   "execution_count": null,
   "metadata": {},
   "outputs": [],
   "source": [
    "gr1_embed_200 = gr1_embed[:200, :]\n",
    "\n",
    "gr2_embed_200 = gr2_embed[:200, :]"
   ]
  },
  {
   "cell_type": "code",
   "execution_count": null,
   "metadata": {},
   "outputs": [],
   "source": [
    "mmd_200 = MMDTest(gr1_embed_200, gr2_embed_200)\n",
    "\n",
    "p_val = mmd_200._compute_p_value()\n",
    "\n",
    "print(p_val)"
   ]
  },
  {
   "cell_type": "markdown",
   "metadata": {},
   "source": [
    "- Here, let's check how many samples do we need to obtain a p-value belwo our alpha value"
   ]
  },
  {
   "cell_type": "code",
   "execution_count": null,
   "metadata": {},
   "outputs": [],
   "source": [
    "print(gr1_embed.shape)\n",
    "\n",
    "print(gr2_embed.shape)"
   ]
  },
  {
   "cell_type": "code",
   "execution_count": null,
   "metadata": {},
   "outputs": [],
   "source": [
    "from gradcam import GradCAM\n",
    "import gradcam\n",
    "import sys\n",
    "import os\n",
    "sys.path.append(os.path.abspath(\"src\"))"
   ]
  },
  {
   "cell_type": "markdown",
   "metadata": {},
   "source": [
    "# Mean of Embeddings\n",
    "- I can compute mean of embeddings as follows:"
   ]
  },
  {
   "cell_type": "code",
   "execution_count": null,
   "metadata": {},
   "outputs": [],
   "source": [
    "def get_mean_embeddings(gcam, dataloader, device, latent_dim=2048):\n",
    "    \"\"\"Computes the mean embeddings while keeping gradients for backpropagation\"\"\"\n",
    "    mean_embed = None\n",
    "    count_f = 0\n",
    "\n",
    "    for images in dataloader:\n",
    "        images = images.to(device)\n",
    "        embeddings = gcam.forward(images)  # Get embeddings\n",
    "        embeddings = embeddings.view(embeddings.size(0), -1)  # Flatten\n",
    "\n",
    "        batch_mean = embeddings.mean(dim=0)  # Compute mean per batch\n",
    "\n",
    "        if mean_embed is None:\n",
    "            mean_embed = batch_mean  # Initialize running mean\n",
    "        else:\n",
    "            # Online update for running mean (preserves gradient tracking)\n",
    "            count_f += 1\n",
    "            mean_embed = mean_embed + (batch_mean - mean_embed) / count_f\n",
    "\n",
    "    return mean_embed"
   ]
  },
  {
   "cell_type": "code",
   "execution_count": null,
   "metadata": {},
   "outputs": [],
   "source": [
    "# This is my first code (old code)\n",
    "\n",
    "def get_mean_embeddings(gcam, dataloader, device, latent_dim=2048):\n",
    "    \"\"\"Takes dataloader of each group, extract embedding vectors, return mean embeddings\"\"\"\n",
    "    # Initialize accumulators for healthy and unhealthy groups\n",
    "    sum_f = torch.zeros_like(torch.zeros(latent_dim)).to(device)\n",
    "    count_f = 0  # Count of samples in each group\n",
    "    for images in dataloader:\n",
    "        images = images.to(device)\n",
    "        embeddings = gcam.forward(images)\n",
    "        embeddings = embeddings.view(embeddings.size()[0], -1)\n",
    "        sum_f += embeddings.sum(dim=0)  # Sum of embeddings for this batch\n",
    "        count_f += embeddings.size(0)\n",
    "    mean_embed = sum_f / count_f if count_f > 0 else torch.zeros_like(sum_f)\n",
    "    del sum_f, embeddings, images\n",
    "    torch.cuda.empty_cache()\n",
    "    return mean_embed"
   ]
  },
  {
   "cell_type": "markdown",
   "metadata": {},
   "source": [
    "- I corrected image normalisation below too."
   ]
  },
  {
   "cell_type": "code",
   "execution_count": null,
   "metadata": {},
   "outputs": [],
   "source": [
    "def convert_to_tensor(group, device):\n",
    "    # Assuming images_np is of shape (n_samples, 1, 256, 256)\n",
    "    group_tensor = torch.tensor(group).unsqueeze(1).to(device).float()\n",
    "    group_tensor = group_tensor.repeat(\n",
    "        1, 3, 1, 1)  # create image with 3 channels\n",
    "\n",
    "    IMAGENET_MEAN = torch.tensor(\n",
    "        [0.485, 0.456, 0.406]).view(1, 3, 1, 1).to(device)\n",
    "    IMAGENET_STD = torch.tensor(\n",
    "        [0.229, 0.224, 0.225]).view(1, 3, 1, 1).to(device)\n",
    "\n",
    "    # Apply ImageNet normalization\n",
    "    group_tensor = (group_tensor - IMAGENET_MEAN) / IMAGENET_STD\n",
    "\n",
    "    return (group_tensor)"
   ]
  },
  {
   "cell_type": "code",
   "execution_count": null,
   "metadata": {},
   "outputs": [],
   "source": [
    "def get_loader(group0, group1, device, bs=64):\n",
    "    group0_tensor = convert_to_tensor(group0, device)\n",
    "    group1_tensor = convert_to_tensor(group1, device)\n",
    "\n",
    "    print(group0_tensor.shape)\n",
    "    print(group1_tensor.shape)\n",
    "\n",
    "    group0_loader = DataLoader(\n",
    "        group0_tensor, batch_size=bs, shuffle=False, drop_last=True)\n",
    "    group1_loader = DataLoader(\n",
    "        group1_tensor, batch_size=bs, shuffle=False, drop_last=True)\n",
    "\n",
    "    return (group0_loader, group1_loader)"
   ]
  },
  {
   "cell_type": "markdown",
   "metadata": {},
   "source": [
    "- Now I check, how data in dataloaders are defined."
   ]
  },
  {
   "cell_type": "code",
   "execution_count": null,
   "metadata": {},
   "outputs": [],
   "source": [
    "gr0_nr_loader, gr1_nr_loader = get_loader(gr0_100, gr1_100, device, bs=64)"
   ]
  },
  {
   "cell_type": "code",
   "execution_count": null,
   "metadata": {},
   "outputs": [],
   "source": [
    "gr0_100 = group0[:100]\n",
    "\n",
    "gr1_100 = group1[:100]"
   ]
  },
  {
   "cell_type": "code",
   "execution_count": null,
   "metadata": {},
   "outputs": [],
   "source": [
    "gr0_loader, gr1_loader = get_loader(gr0_100, gr1_100, device, bs=64)"
   ]
  },
  {
   "cell_type": "code",
   "execution_count": null,
   "metadata": {},
   "outputs": [],
   "source": [
    "print(len(gr0_loader.dataset))"
   ]
  },
  {
   "cell_type": "code",
   "execution_count": null,
   "metadata": {},
   "outputs": [],
   "source": [
    "for batch in gr0_loader:\n",
    "\n",
    "    print(batch.shape)\n",
    "\n",
    "    break"
   ]
  },
  {
   "cell_type": "code",
   "execution_count": null,
   "metadata": {},
   "outputs": [],
   "source": [
    "gr0_loader, gr1_loader = get_loader(gr0_100, gr1_100, device, bs=64)"
   ]
  },
  {
   "cell_type": "code",
   "execution_count": null,
   "metadata": {},
   "outputs": [],
   "source": [
    "for batch in gr0_loader:\n",
    "    print(len(batch))\n",
    "    break"
   ]
  },
  {
   "cell_type": "code",
   "execution_count": null,
   "metadata": {},
   "outputs": [],
   "source": [
    "def backprobagate_statistics(model, group0, group1, target_layer, bs, device):\n",
    "    \"\"\"Calculate the test statistic for different groups of DR.\"\"\"\n",
    "    # convert numpy groups to tensors\n",
    "    group0_loader, group1_loader = get_loader(group0, group1, device, bs=64)\n",
    "\n",
    "    gcam = GradCAM(model, target_layer=target_layer, relu=True, device=device)\n",
    "    # Calculate mean embeddings\n",
    "    group0_mean = get_mean_embeddings(gcam, group0_loader, device)\n",
    "    group1_mean = get_mean_embeddings(gcam, group1_loader, device)\n",
    "    D = group0_mean - group1_mean\n",
    "    print(f'group0_mean:{group0_mean.shape}')\n",
    "    print(f'group1_mean:{group1_mean.shape}')\n",
    "    test_statistic = torch.norm(D, p=2)\n",
    "    return (test_statistic, D, gcam)"
   ]
  },
  {
   "cell_type": "code",
   "execution_count": null,
   "metadata": {},
   "outputs": [],
   "source": [
    "def process_attributions(dataloader, gcam, device, backprop_value):\n",
    "    \"\"\"Process and return GradCAM attributions in batches.\"\"\"\n",
    "    attributions_list = []\n",
    "    embed_list = []  # save embeddings as numpy array\n",
    "    # Compute attribution maps for each group\n",
    "    for images, _ in dataloader:\n",
    "        images = images.to(device)\n",
    "        embeddings = gcam.forward(images)\n",
    "        embeddings = embeddings.view(\n",
    "            embeddings.size()[0], -1).cpu().data.numpy()\n",
    "        embed_list.append(embeddings)\n",
    "        del embeddings\n",
    "        gcam.backward(backprop_value)\n",
    "        attributions = gcam.generate()\n",
    "        attributions = attributions.squeeze().cpu().data.numpy()\n",
    "        attributions_list.append(attributions)\n",
    "    return np.vstack(attributions_list), np.vstack(embed_list)"
   ]
  },
  {
   "cell_type": "code",
   "execution_count": null,
   "metadata": {},
   "outputs": [],
   "source": [
    "def run(model, group0, group1, device, target_layer, bs=64, backprop_type='test_statistic', latent_dim_idx=None):\n",
    "    \"\"\"Main experiment function.\"\"\"\n",
    "    test_statistic, D, gcam = backprobagate_statistics(\n",
    "        model, group0, group1, target_layer, bs, device)\n",
    "\n",
    "    backprop_value = test_statistic\n",
    "\n",
    "    group0_loader, group1_loader = get_loader(group0, group1, device)\n",
    "\n",
    "    group0_attr, group0_embed = process_attributions(\n",
    "        group0_loader, gcam, backprop_value)\n",
    "    group1_attr, group1_embed = process_attributions(\n",
    "        group1_loader, gcam, backprop_value)\n",
    "\n",
    "    # save_attributions(group0_attr, group1_attr,latent_dim_idx)\n",
    "\n",
    "    print(f'gr1:{group0_attr.shape}')\n",
    "    print(f'gr2:{group2_attr.shape}')\n",
    "\n",
    "    return (group0_attr, group1_attr)"
   ]
  },
  {
   "cell_type": "code",
   "execution_count": null,
   "metadata": {},
   "outputs": [],
   "source": [
    "Target_Layer = '0.7.2.conv3'"
   ]
  },
  {
   "cell_type": "code",
   "execution_count": null,
   "metadata": {},
   "outputs": [],
   "source": [
    "group0.shape"
   ]
  },
  {
   "cell_type": "code",
   "execution_count": null,
   "metadata": {},
   "outputs": [],
   "source": [
    "gr0_64 = group0[:64, :, :]\n",
    "\n",
    "gr1_64 = group1[:64, :, :]\n",
    "\n",
    "print(gr0_64.shape)\n",
    "\n",
    "print(gr1_64.shape)"
   ]
  },
  {
   "cell_type": "code",
   "execution_count": null,
   "metadata": {},
   "outputs": [],
   "source": [
    "gr0_att, gr1_att = run(model=encoder, group0=gr0_200, group1=gr1_200, device=device,\n",
    "                       target_layer=Target_Layer, bs=8, backprop_type='test_statistic', latent_dim_idx=None)"
   ]
  },
  {
   "cell_type": "markdown",
   "metadata": {},
   "source": [
    "### Changes in the code:\n",
    "\n",
    " - **First**: \n",
    " \n",
    "    - compute embeddings for the first group and save them => **$\\mu_{1}$**\n",
    "    - compute embeddings for the second group and save them => **$\\mu_{2}$**\n",
    " - **Second**:\n",
    " \n",
    "   - Load saved embeddings \n",
    "   \n",
    "   - For each batch, compute emebdding in forward pass and compute => **$\\mu_{1}' = \\mu_{1} - d_{i}+d_{i}$**, where $d_{i}$ is the embedding of i-th batch.\n",
    "\n",
    "   - Compute test-statistic **$S$**\n",
    "   \n",
    "   - Backprobagate test-statistic **$S$** to get heatmaps\n",
    " "
   ]
  },
  {
   "cell_type": "code",
   "execution_count": null,
   "metadata": {},
   "outputs": [],
   "source": [
    "# Wei cheng code\n",
    "\n",
    "pre_embed_group0 = torch.tensor(pre_embed_group0).to(device)\n",
    "pre_embed_group1 = torch.tensor(pre_embed_group1).to(device)\n",
    "\n",
    "# convert numpy groups to tensors\n",
    "group0_loader, group1_loader = get_loader(group0, group1, device, bs=bs)\n",
    "\n",
    "gcam = GradCAM(model,\n",
    "               target_layer=target_layer,\n",
    "               relu=True, device=device)\n",
    "# Calculate sum embeddings for each group\n",
    "pre_embed_group0_sum = pre_embed_group0.sum(dim=0)\n",
    "pre_embed_group1_sum = pre_embed_group1.sum(dim=0)\n",
    "# this is wrong => (len(group0_loader.dataset))\n",
    "mean_embeddings_group0 = pre_embed_group0_sum / len(group0_loader)\n",
    "mean_embeddings_group1 = pre_embed_group1_sum / \\\n",
    "    len(group1_loader)  # this is wrong\n",
    "\n",
    "diff_group0 = []\n",
    "diff_group1 = []\n",
    "for i, images in enumerate(group0_loader):\n",
    "    images = images.to(device)\n",
    "    current_embed = get_mean_embeddings_per_batch(gcam, images)\n",
    "    embeddings = pre_embed_group0_sum + current_embed - \\\n",
    "        pre_embed_group0[i * bs: (i + 1) * bs].sum(dim=0)\n",
    "    # this is wrong,it should be divided by len dataset\n",
    "    batch_mean_embeddings_group0 = embeddings / len(group0_loader)\n",
    "    # statistical test\n",
    "    mmd = torch.norm(batch_mean_embeddings_group0 -\n",
    "                     mean_embeddings_group1, p=2)\n",
    "    gcam.backward(mmd)\n",
    "    gcam_activation0 = gcam.generate().squeeze(dim=1)\n",
    "    diff_group0.append(gcam_activation0.cpu().detach().numpy())\n",
    "    torch.cuda.empty_cache()"
   ]
  },
  {
   "cell_type": "code",
   "execution_count": null,
   "metadata": {},
   "outputs": [],
   "source": [
    "def backprobagate_test_statistic(dataloader, gcam, device, emb_gr1, emb_gr2, gr1=True, bs=64):\n",
    "    \"\"\"Backprobagate test-statistic and get heatmaps\"\"\"\n",
    "    attributions_list = []\n",
    "\n",
    "    # Step 1: Compute the initial sum embeddings for group 1 and group 2  # Sum of group 1 embeddings\n",
    "    emb_gr1_tensor = torch.tensor(emb_gr1).to(device)\n",
    "    sum_gr1 = emb_gr1_tensor.sum(dim=0, keepdims=True)  # Sum group 1\n",
    "    # print(f'sum_gr1_shape:{sum_gr1.shape}')\n",
    "\n",
    "    emb_gr2_tensor = torch.tensor(emb_gr2).to(device)\n",
    "    sum_gr2 = emb_gr2_tensor.sum(dim=0, keepdims=True)  # Sum group 1\n",
    "    # print(f'sum_gr2_shape:{sum_gr1.shape}')\n",
    "\n",
    "    print(f'sum_gr1_req_gr:{sum_gr1.requires_grad}')\n",
    "    print(f'sum_gr2_req_gr:{sum_gr2.requires_grad}')\n",
    "\n",
    "    print(f'sum_gr1:{sum_gr1.shape}')\n",
    "    print(f'sum_gr2:{sum_gr2.shape}')\n",
    "\n",
    "    batch_count = 0\n",
    "\n",
    "    # Compute attribution maps for each group\n",
    "    for i, images in enumerate(dataloader):\n",
    "        images = images.to(device)\n",
    "        embeddings = gcam.forward(images)\n",
    "        embeddings = embeddings.view(embeddings.size()[0], -1)\n",
    "\n",
    "        batch_count += 1\n",
    "        print(f'number of batches:{batch_count}')\n",
    "\n",
    "        print(f'embedding:{embeddings.shape}')\n",
    "\n",
    "        batch_size = embeddings.size(0)\n",
    "\n",
    "        if gr1:\n",
    "            # Subtract the old batch embeddings, then add the new batch embeddings for group1\n",
    "            # Remove batch embeddings\n",
    "            sum_gr1 = sum_gr1 - emb_gr1_tensor[i * bs: (i + 1) * bs].sum(dim=0)\n",
    "            # Add new batch embeddings\n",
    "            sum_gr1 = sum_gr1 + embeddings.sum(dim=0, keepdim=True)\n",
    "\n",
    "        else:\n",
    "            # Subtract the old batch embeddings, then add the new batch embeddings for group2\n",
    "            # Remove batch embeddings\n",
    "            sum_gr2 = sum_gr2 - emb_gr2_tensor[i * bs: (i + 1) * bs].sum(dim=0)\n",
    "            # Add new batch embeddings\n",
    "            sum_gr2 = sum_gr2 + embeddings.sum(dim=0, keepdim=True)\n",
    "\n",
    "        del embeddings\n",
    "        # clear cuda\n",
    "        torch.cuda.empty_cache()\n",
    "\n",
    "        # compute test-statistic\n",
    "        mean_gr1 = sum_gr1/len(emb_gr1)\n",
    "        mean_gr2 = sum_gr2/len(emb_gr2)\n",
    "\n",
    "        D = mean_gr1 - mean_gr2\n",
    "        print(f'shape of test_statistic:{D.shape}')\n",
    "        test_statistic = torch.norm(D, p=2)\n",
    "        # check if test_statistic has computational graph\n",
    "        print(f'\\n test_statistic_req_grad:{test_statistic.requires_grad}')\n",
    "\n",
    "        gcam.backward(test_statistic)\n",
    "        attributions = gcam.generate()\n",
    "        attributions = attributions.squeeze().cpu().data.numpy()\n",
    "        attributions_list.append(attributions)\n",
    "\n",
    "        mmd = MMDTest(emb_gr1, emb_gr2)\n",
    "\n",
    "        p_val = mmd._compute_p_value()\n",
    "\n",
    "        print(f'p_val:{p_val}')\n",
    "\n",
    "        if batch_count == 4:\n",
    "            break\n",
    "    return np.vstack(attributions_list)"
   ]
  },
  {
   "cell_type": "code",
   "execution_count": null,
   "metadata": {},
   "outputs": [],
   "source": [
    "def get_heatmaps(model, group0, group1, device, target_layer, bs=64):\n",
    "\n",
    "    # get dataloaders\n",
    "    group0_loader, group1_loader = get_loader(group0, group1, device)\n",
    "\n",
    "    batch_gr0 = next(iter(group0_loader))\n",
    "    batch_gr1 = next(iter(group1_loader))\n",
    "\n",
    "    print(f'batch_gr0:{len(batch_gr0)}')\n",
    "    print(f'batch_gr1:{len(batch_gr1)}')\n",
    "\n",
    "    # load embeddings\n",
    "    path = './adni_embed'\n",
    "\n",
    "    path_gr0_embed = os.path.join(path, 'embed_gr1.npy')\n",
    "    path_gr1_embed = os.path.join(path, 'embed_gr2.npy')\n",
    "\n",
    "    embed_gr0 = np.load(path_gr0_embed)\n",
    "    embed_gr1 = np.load(path_gr1_embed)\n",
    "\n",
    "    print(f'gr1_embed:{embed_gr0.shape}')\n",
    "    print(f'gr2_embed:{embed_gr1.shape}')\n",
    "\n",
    "    # create gradCAM\n",
    "    gcam = GradCAM(model, target_layer=target_layer, relu=True, device=device)\n",
    "\n",
    "    group0_attr = backprobagate_test_statistic(\n",
    "        group0_loader, gcam, device, embed_gr0, embed_gr1, gr1=True, bs=bs)\n",
    "    group1_attr = backprobagate_test_statistic(\n",
    "        group1_loader, gcam, device, embed_gr0, embed_gr1, gr1=False, bs=bs)\n",
    "\n",
    "    print(f'gr0_heat_shape:{group0_attr.shape}')\n",
    "    print(f'gr1_heat_shape:{group1_attr.shape}')\n",
    "\n",
    "    n = group0_attr.shape[0]\n",
    "    m = group1_attr.shape[1]\n",
    "\n",
    "    # save_attributions(group0_attr, group1_attr,latent_dim_idx)\n",
    "    full_path1 = os.path.join('./adni_heatmaps', f'gr1_scd_{n}')\n",
    "    full_path2 = os.path.join('./adni_heatmaps', f'gr2_scd_{m}')\n",
    "\n",
    "    print(f'gr1:{group0_attr.shape}')\n",
    "    print(f'gr2:{group1_attr.shape}')\n",
    "\n",
    "    np.save(full_path1, group0_attr)\n",
    "    np.save(full_path2, group1_attr)\n",
    "\n",
    "    return (group0_attr, group1_attr)"
   ]
  },
  {
   "cell_type": "code",
   "execution_count": null,
   "metadata": {},
   "outputs": [],
   "source": [
    "gr0_att, gr1_att = get_heatmaps(model=encoder, group0=group0,\n",
    "                                group1=group1, device=device, target_layer='0.7.2.conv3', bs=64)"
   ]
  },
  {
   "cell_type": "code",
   "execution_count": null,
   "metadata": {},
   "outputs": [],
   "source": [
    "print(group0.shape)\n",
    "print(group1.shape)"
   ]
  },
  {
   "cell_type": "code",
   "execution_count": null,
   "metadata": {},
   "outputs": [],
   "source": [
    "device = torch.device('cuda' if torch.cuda.is_available() else 'cpu')\n",
    "print(f\"Using device: {device}\")"
   ]
  },
  {
   "cell_type": "markdown",
   "metadata": {},
   "source": [
    "- Now I will look at the heatmaps"
   ]
  },
  {
   "cell_type": "code",
   "execution_count": null,
   "metadata": {},
   "outputs": [],
   "source": [
    "path1 = './adni_heatmaps/gr1_scd_256.npy'\n",
    "\n",
    "heat_gr1 = np.load(path1)\n",
    "\n",
    "path2 = './adni_heatmaps/gr2_scd_256.npy'\n",
    "\n",
    "heat_gr2 = np.load(path2)"
   ]
  },
  {
   "cell_type": "code",
   "execution_count": null,
   "metadata": {},
   "outputs": [],
   "source": [
    "print(heat_gr1.shape)\n",
    "\n",
    "print(heat_gr2.shape)"
   ]
  },
  {
   "cell_type": "code",
   "execution_count": null,
   "metadata": {},
   "outputs": [],
   "source": [
    "heat0_gr1 = heat_gr1[0]\n",
    "heat0_gr2 = heat_gr2[0]\n",
    "\n",
    "heat1_gr1 = heat_gr1[1]\n",
    "heat1_gr2 = heat_gr2[1]\n",
    "\n",
    "heat2_gr1 = heat_gr1[2]\n",
    "heat2_gr2 = heat_gr2[2]\n",
    "\n",
    "heat3_gr1 = heat_gr1[3]\n",
    "heat3_gr2 = heat_gr2[3]\n",
    "\n",
    "heat4_gr1 = heat_gr1[4]\n",
    "heat4_gr2 = heat_gr2[4]\n",
    "\n",
    "heat5_gr1 = heat_gr1[5]\n",
    "heat5_gr2 = heat_gr2[5]\n",
    "\n",
    "heat6_gr1 = heat_gr1[6]\n",
    "heat6_gr2 = heat_gr2[6]\n",
    "\n",
    "heat7_gr1 = heat_gr1[7]\n",
    "heat7_gr2 = heat_gr2[7]\n",
    "\n",
    "heat8_gr1 = heat_gr1[8]\n",
    "heat8_gr2 = heat_gr2[8]\n",
    "\n",
    "heat9_gr1 = heat_gr1[9]\n",
    "heat9_gr2 = heat_gr2[9]\n",
    "\n",
    "heat10_gr1 = heat_gr1[10]\n",
    "heat10_gr2 = heat_gr2[10]\n",
    "\n",
    "heat40_gr1 = heat_gr1[40]\n",
    "heat40_gr2 = heat_gr2[40]\n",
    "\n",
    "heat60_gr1 = heat_gr1[60]\n",
    "heat60_gr2 = heat_gr2[60]"
   ]
  },
  {
   "cell_type": "code",
   "execution_count": null,
   "metadata": {},
   "outputs": [],
   "source": [
    "import matplotlib.pyplot as plt\n",
    "\n",
    "# Grouping images\n",
    "group1_images = [\n",
    "    heat0_gr1, heat1_gr1, heat2_gr1, heat3_gr1, heat4_gr1,\n",
    "    heat5_gr1, heat6_gr1, heat7_gr1, heat8_gr1, heat9_gr1,\n",
    "    heat10_gr1, heat40_gr1, heat60_gr1\n",
    "]\n",
    "\n",
    "group2_images = [\n",
    "    heat0_gr2, heat1_gr2, heat2_gr2, heat3_gr2, heat4_gr2,\n",
    "    heat5_gr2, heat6_gr2, heat7_gr2, heat8_gr2, heat9_gr2,\n",
    "    heat10_gr2, heat40_gr2, heat60_gr2\n",
    "]\n",
    "\n",
    "num_images = len(group1_images)  # Number of images per group\n",
    "\n",
    "fig, axes = plt.subplots(nrows=2, ncols=num_images, figsize=(\n",
    "    num_images * 2, 6))  # 2 rows, N columns\n",
    "\n",
    "# Titles for each image\n",
    "titles1 = [f\"Image{i} Gr1\" for i in [0, 1, 2, 3, 4, 5, 6, 7, 8, 9, 10, 40, 60]]\n",
    "\n",
    "titles2 = [f\"Image{i} Gr2\" for i in [0, 1, 2, 3, 4, 5, 6, 7, 8, 9, 10, 40, 60]]\n",
    "\n",
    "# Plot Group 1 in the first row\n",
    "for i in range(num_images):\n",
    "    axes[0, i].imshow(group1_images[i], cmap='viridis')\n",
    "    axes[0, i].set_title(titles1[i])\n",
    "    axes[0, i].axis('off')\n",
    "\n",
    "# Plot Group 2 in the second row\n",
    "for i in range(num_images):\n",
    "    axes[1, i].imshow(group2_images[i], cmap='viridis')\n",
    "    axes[1, i].set_title(titles2[i])\n",
    "    axes[1, i].axis('off')\n",
    "\n",
    "plt.tight_layout()\n",
    "plt.show()"
   ]
  },
  {
   "cell_type": "markdown",
   "metadata": {},
   "source": [
    "### Importing heatmaps and looking at them "
   ]
  },
  {
   "cell_type": "code",
   "execution_count": null,
   "metadata": {},
   "outputs": [],
   "source": [
    "import numpy as np\n",
    "\n",
    "from PIL import Image"
   ]
  },
  {
   "cell_type": "code",
   "execution_count": null,
   "metadata": {},
   "outputs": [],
   "source": [
    "class ZeroGradientError(Exception):\n",
    "    \"\"\"Custom exception to handle cases where the gradient is zero.\"\"\"\n",
    "    pass\n",
    "\n",
    "\n",
    "def save_cam_with_alpha(image, gcam, alpha=0.5):\n",
    "\n",
    "    # Convert grayscale image to 3 channels if needed\n",
    "    if len(image.shape) == 2:  # Grayscale image (H, W)\n",
    "        image = np.stack([image] * 3, axis=-1)  # Convert to (H, W, 3)\n",
    "\n",
    "    # Normalize the Grad-CAM values to [0, 1]\n",
    "    # Normalize the Grad-CAM values to [0, 1], handling zero gradients\n",
    "    gcam_min = np.min(gcam)\n",
    "    gcam_max = np.max(gcam)\n",
    "\n",
    "    try:\n",
    "        if gcam_max == gcam_min:  # If all values are zero, raise an error\n",
    "            raise ZeroGradientError(\n",
    "                \"Gradient map contains only zero values, cannot overlay.\")\n",
    "        # Normalize gradient map\n",
    "        gcam = (gcam - gcam_min) / (gcam_max - gcam_min)\n",
    "    except ZeroGradientError as e:\n",
    "        print(f\"Error: {e}\")\n",
    "        # Handle the error (for example, return the original image or skip processing)\n",
    "        return image, image  # Return the original image if error occurs\n",
    "\n",
    "    # Resize Grad-CAM to match the image dimensions (224x224)\n",
    "    # Get height and width (height, width) from image shape\n",
    "    h, w = image.shape[:2]\n",
    "    gcam_resized = np.array(Image.fromarray(\n",
    "        gcam).resize((w, h), Image.BILINEAR))\n",
    "\n",
    "    # Apply a colormap (similar to cv2.applyColorMap)\n",
    "    # Apply colormap and select RGB channels\n",
    "    gcam_colored = plt.cm.jet(gcam_resized)[:, :, :3] * 255\n",
    "    gcam_colored = gcam_colored.astype(np.uint8)\n",
    "\n",
    "    # Add Grad-CAM on top of the original image using alpha blending\n",
    "    heatmap = gcam_colored.astype(np.float64)\n",
    "\n",
    "    # checking dimension of image and heatmaps\n",
    "    print(f'heatmap:{heatmap.shape}')\n",
    "    print(f'image:{image.shape}')\n",
    "\n",
    "    overlaid_image = (alpha * heatmap + (1 - alpha) *\n",
    "                      image.astype(np.float64)).astype(np.uint8)\n",
    "\n",
    "    return image, overlaid_image"
   ]
  },
  {
   "cell_type": "code",
   "execution_count": null,
   "metadata": {},
   "outputs": [],
   "source": [
    "path1 = './adni_heatmaps/gr1.npy'\n",
    "\n",
    "path2 = './adni_heatmaps/gr2.npy'"
   ]
  },
  {
   "cell_type": "code",
   "execution_count": null,
   "metadata": {},
   "outputs": [],
   "source": [
    "heat1 = np.load(path1)\n",
    "\n",
    "heat2 = np.load(path2)"
   ]
  },
  {
   "cell_type": "code",
   "execution_count": null,
   "metadata": {},
   "outputs": [],
   "source": [
    "print(heat1.shape)\n",
    "\n",
    "print(heat2.shape)"
   ]
  },
  {
   "cell_type": "code",
   "execution_count": null,
   "metadata": {},
   "outputs": [],
   "source": [
    "import utils\n",
    "import sys\n",
    "import os\n",
    "\n",
    "# Get the absolute path of the 'src' directory\n",
    "src_path = os.path.abspath(\"src\")\n",
    "\n",
    "# Add 'src' to system path\n",
    "if src_path not in sys.path:\n",
    "    sys.path.append(src_path)"
   ]
  },
  {
   "cell_type": "markdown",
   "metadata": {},
   "source": [
    "- To use functions from utils, we can do it as follows:\n",
    "\n",
    "  - utils.save_cam_with_alpha(...)\n",
    "  - utils.overlay_heatmap_single(...)"
   ]
  },
  {
   "cell_type": "code",
   "execution_count": null,
   "metadata": {},
   "outputs": [],
   "source": [
    "gr0 = gr0_64\n",
    "\n",
    "gr1 = gr1_64"
   ]
  },
  {
   "cell_type": "code",
   "execution_count": null,
   "metadata": {},
   "outputs": [],
   "source": [
    "sing_img0 = gr0[0]"
   ]
  },
  {
   "cell_type": "code",
   "execution_count": null,
   "metadata": {},
   "outputs": [],
   "source": [
    "sing_img0.shape"
   ]
  },
  {
   "cell_type": "code",
   "execution_count": null,
   "metadata": {},
   "outputs": [],
   "source": [
    "plt.imshow(sing_img0)"
   ]
  },
  {
   "cell_type": "code",
   "execution_count": null,
   "metadata": {},
   "outputs": [],
   "source": [
    "sing_img1 = gr1[0]"
   ]
  },
  {
   "cell_type": "code",
   "execution_count": null,
   "metadata": {},
   "outputs": [],
   "source": [
    "sing_img1.shape"
   ]
  },
  {
   "cell_type": "code",
   "execution_count": null,
   "metadata": {},
   "outputs": [],
   "source": [
    "plt.imshow(sing_img1)"
   ]
  },
  {
   "cell_type": "code",
   "execution_count": null,
   "metadata": {},
   "outputs": [],
   "source": [
    "print(type(sing_img0))\n",
    "\n",
    "print(type(sing_img1))"
   ]
  },
  {
   "cell_type": "code",
   "execution_count": null,
   "metadata": {},
   "outputs": [],
   "source": [
    "print(sing_img0.dtype)\n",
    "\n",
    "print(sing_img1.dtype)"
   ]
  },
  {
   "cell_type": "code",
   "execution_count": null,
   "metadata": {},
   "outputs": [],
   "source": [
    "heat_img0_gr0 = heat1[0]\n",
    "\n",
    "heat_img1_gr1 = heat2[0]"
   ]
  },
  {
   "cell_type": "code",
   "execution_count": null,
   "metadata": {},
   "outputs": [],
   "source": [
    "img0_gr0, ov_im0_gr0 = save_cam_with_alpha(sing_img0, heat_img0_gr0, alpha=0.5)\n",
    "\n",
    "img0_gr1, ov_im0_gr1 = save_cam_with_alpha(sing_img1, heat_img1_gr1, alpha=0.5)"
   ]
  },
  {
   "cell_type": "markdown",
   "metadata": {},
   "source": [
    "### Heatmaps of group0 "
   ]
  },
  {
   "cell_type": "code",
   "execution_count": null,
   "metadata": {},
   "outputs": [],
   "source": [
    "fig, axes = plt.subplots(1, 2, figsize=(10, 5))\n",
    "\n",
    "axes[0].imshow(img0_gr0)\n",
    "\n",
    "plt.axis(\"off\")\n",
    "\n",
    "axes[1].imshow(ov_im0_gr0)\n",
    "\n",
    "plt.axis(\"off\")"
   ]
  },
  {
   "cell_type": "markdown",
   "metadata": {},
   "source": [
    "### Heatmaps of group1"
   ]
  },
  {
   "cell_type": "code",
   "execution_count": null,
   "metadata": {},
   "outputs": [],
   "source": [
    "img0_gr1, ov_im0_gr1"
   ]
  },
  {
   "cell_type": "code",
   "execution_count": null,
   "metadata": {},
   "outputs": [],
   "source": [
    "fig, axes = plt.subplots(1, 2, figsize=(10, 5))\n",
    "\n",
    "axes[0].imshow(img0_gr1)\n",
    "\n",
    "plt.axis(\"off\")\n",
    "axes[1].imshow(ov_im0_gr1)\n",
    "\n",
    "plt.axis(\"off\")"
   ]
  },
  {
   "cell_type": "markdown",
   "metadata": {},
   "source": [
    "- Let's consider another image in the group"
   ]
  },
  {
   "cell_type": "code",
   "execution_count": null,
   "metadata": {},
   "outputs": [],
   "source": [
    "img10_gr0 = gr0[10]\n",
    "\n",
    "img10_gr1 = gr1[10]"
   ]
  },
  {
   "cell_type": "code",
   "execution_count": null,
   "metadata": {},
   "outputs": [],
   "source": [
    "fig, axes = plt.subplots(1, 2, figsize=(10, 5))\n",
    "\n",
    "axes[0].imshow(img10_gr0)\n",
    "\n",
    "axes[0].axis(\"off\")\n",
    "\n",
    "axes[1].imshow(img10_gr1)\n",
    "\n",
    "axes[1].axis(\"off\")"
   ]
  },
  {
   "cell_type": "code",
   "execution_count": null,
   "metadata": {},
   "outputs": [],
   "source": [
    "heat10_gr0 = heat1[10]\n",
    "\n",
    "heat10_gr1 = heat2[10]"
   ]
  },
  {
   "cell_type": "code",
   "execution_count": null,
   "metadata": {},
   "outputs": [],
   "source": [
    "img10_gr0, ov_im10_gr0 = save_cam_with_alpha(img10_gr0, heat10_gr0, alpha=0.5)\n",
    "\n",
    "img10_gr1, ov_im10_gr1 = save_cam_with_alpha(img10_gr1, heat10_gr1, alpha=0.5)"
   ]
  },
  {
   "cell_type": "code",
   "execution_count": null,
   "metadata": {},
   "outputs": [],
   "source": [
    "fig, axes = plt.subplots(1, 2, figsize=(10, 5))\n",
    "\n",
    "axes[0].imshow(img10_gr0)\n",
    "\n",
    "plt.axis(\"off\")\n",
    "\n",
    "axes[1].imshow(ov_im10_gr0)\n",
    "\n",
    "plt.axis(\"off\")"
   ]
  },
  {
   "cell_type": "code",
   "execution_count": null,
   "metadata": {},
   "outputs": [],
   "source": [
    "fig, axes = plt.subplots(1, 2, figsize=(10, 5))\n",
    "\n",
    "axes[0].imshow(img10_gr1)\n",
    "\n",
    "plt.axis(\"off\")\n",
    "\n",
    "axes[1].imshow(ov_im10_gr1)\n",
    "\n",
    "plt.axis(\"off\")"
   ]
  },
  {
   "cell_type": "markdown",
   "metadata": {},
   "source": [
    "- Let's look at image 40"
   ]
  },
  {
   "cell_type": "code",
   "execution_count": null,
   "metadata": {},
   "outputs": [],
   "source": [
    "img40_gr0 = gr0[40]\n",
    "\n",
    "img40_gr1 = gr1[40]"
   ]
  },
  {
   "cell_type": "code",
   "execution_count": null,
   "metadata": {},
   "outputs": [],
   "source": [
    "fig, axes = plt.subplots(1, 2, figsize=(10, 5))\n",
    "\n",
    "axes[0].imshow(img40_gr0)\n",
    "\n",
    "axes[0].axis(\"off\")\n",
    "\n",
    "axes[1].imshow(img40_gr1)\n",
    "\n",
    "axes[1].axis(\"off\")"
   ]
  },
  {
   "cell_type": "code",
   "execution_count": null,
   "metadata": {},
   "outputs": [],
   "source": [
    "heat40_gr0 = heat1[40]\n",
    "\n",
    "heat40_gr1 = heat2[40]"
   ]
  },
  {
   "cell_type": "code",
   "execution_count": null,
   "metadata": {},
   "outputs": [],
   "source": [
    "img40_gr0, ov_im40_gr0 = save_cam_with_alpha(img40_gr0, heat40_gr0, alpha=0.5)\n",
    "\n",
    "img40_gr1, ov_im40_gr1 = save_cam_with_alpha(img40_gr1, heat40_gr1, alpha=0.5)"
   ]
  },
  {
   "cell_type": "code",
   "execution_count": null,
   "metadata": {},
   "outputs": [],
   "source": [
    "fig, axes = plt.subplots(1, 2, figsize=(10, 5))\n",
    "\n",
    "axes[0].imshow(img40_gr0)\n",
    "\n",
    "plt.axis(\"off\")\n",
    "\n",
    "axes[1].imshow(ov_im40_gr0)\n",
    "\n",
    "plt.axis(\"off\")"
   ]
  },
  {
   "cell_type": "code",
   "execution_count": null,
   "metadata": {},
   "outputs": [],
   "source": [
    "fig, axes = plt.subplots(1, 2, figsize=(10, 5))\n",
    "\n",
    "axes[0].imshow(img40_gr1)\n",
    "\n",
    "plt.axis(\"off\")\n",
    "\n",
    "axes[1].imshow(ov_im40_gr1)\n",
    "\n",
    "plt.axis(\"off\")"
   ]
  },
  {
   "cell_type": "markdown",
   "metadata": {},
   "source": [
    "- Let's look at images 50 or 60"
   ]
  },
  {
   "cell_type": "code",
   "execution_count": null,
   "metadata": {},
   "outputs": [],
   "source": [
    "img60_gr0 = gr0[60]\n",
    "\n",
    "img60_gr1 = gr1[60]"
   ]
  },
  {
   "cell_type": "code",
   "execution_count": null,
   "metadata": {},
   "outputs": [],
   "source": [
    "fig, axes = plt.subplots(1, 2, figsize=(10, 5))\n",
    "\n",
    "axes[0].imshow(img60_gr0)\n",
    "\n",
    "axes[0].set_title('group 0')\n",
    "\n",
    "axes[0].axis(\"off\")\n",
    "\n",
    "axes[1].imshow(img60_gr1)\n",
    "\n",
    "axes[1].set_title('group 1')\n",
    "axes[1].axis(\"off\")"
   ]
  },
  {
   "cell_type": "code",
   "execution_count": null,
   "metadata": {},
   "outputs": [],
   "source": [
    "heat60_gr0 = heat1[60]\n",
    "\n",
    "heat60_gr1 = heat2[60]"
   ]
  },
  {
   "cell_type": "code",
   "execution_count": null,
   "metadata": {},
   "outputs": [],
   "source": [
    "img60_gr0, ov_im60_gr0 = save_cam_with_alpha(img60_gr0, heat60_gr0, alpha=0.5)\n",
    "\n",
    "img60_gr1, ov_im60_gr1 = save_cam_with_alpha(img60_gr1, heat60_gr1, alpha=0.5)"
   ]
  },
  {
   "cell_type": "code",
   "execution_count": null,
   "metadata": {},
   "outputs": [],
   "source": [
    "fig, axes = plt.subplots(1, 2, figsize=(10, 5))\n",
    "\n",
    "axes[0].imshow(img60_gr0)\n",
    "\n",
    "plt.axis(\"off\")\n",
    "\n",
    "axes[1].imshow(ov_im60_gr0)\n",
    "\n",
    "plt.axis(\"off\")"
   ]
  },
  {
   "cell_type": "code",
   "execution_count": null,
   "metadata": {},
   "outputs": [],
   "source": [
    "fig, axes = plt.subplots(1, 2, figsize=(10, 5))\n",
    "\n",
    "axes[0].imshow(img60_gr1)\n",
    "\n",
    "axes[0].axis(\"off\")\n",
    "\n",
    "axes[1].imshow(ov_im60_gr1)\n",
    "\n",
    "plt.axis(\"off\")"
   ]
  },
  {
   "cell_type": "markdown",
   "metadata": {},
   "source": [
    "- How to adjust alhos:\n",
    "\n",
    "  - If you want precise attention to specific areas in the heatmap but don't want to lose the context of the original image (e.g., object recognition, localization), try alpha around 0.3 to 0.5.\n",
    "  \n",
    "  - Lets change alpha"
   ]
  },
  {
   "cell_type": "code",
   "execution_count": null,
   "metadata": {},
   "outputs": [],
   "source": [
    "img60_gr0, ov_im60_gr0_3 = save_cam_with_alpha(\n",
    "    img60_gr0, heat60_gr0, alpha=0.3)\n",
    "\n",
    "img60_gr1, ov_im60_gr1_3 = save_cam_with_alpha(\n",
    "    img60_gr1, heat60_gr1, alpha=0.3)"
   ]
  },
  {
   "cell_type": "code",
   "execution_count": null,
   "metadata": {},
   "outputs": [],
   "source": [
    "fig, axes = plt.subplots(1, 2, figsize=(10, 5))\n",
    "\n",
    "axes[0].imshow(img60_gr0)\n",
    "\n",
    "axes[0].axis(\"off\")\n",
    "\n",
    "axes[1].imshow(ov_im60_gr0_3)\n",
    "\n",
    "axes[1].axis(\"off\")"
   ]
  },
  {
   "cell_type": "code",
   "execution_count": null,
   "metadata": {},
   "outputs": [],
   "source": [
    "img60_gr0, ov_im60_gr0_4 = save_cam_with_alpha(\n",
    "    img60_gr0, heat60_gr0, alpha=0.4)\n",
    "\n",
    "img60_gr1, ov_im60_gr1_4 = save_cam_with_alpha(\n",
    "    img60_gr1, heat60_gr1, alpha=0.4)"
   ]
  },
  {
   "cell_type": "code",
   "execution_count": null,
   "metadata": {},
   "outputs": [],
   "source": [
    "fig, axes = plt.subplots(1, 2, figsize=(10, 5))\n",
    "\n",
    "axes[0].imshow(img60_gr0)\n",
    "\n",
    "axes[0].axis(\"off\")\n",
    "\n",
    "axes[1].imshow(ov_im60_gr0_4)\n",
    "\n",
    "axes[1].axis(\"off\")"
   ]
  },
  {
   "cell_type": "markdown",
   "metadata": {},
   "source": [
    "- It seems $\\alpha = 0.4$ works better for heatmap visualisation"
   ]
  },
  {
   "cell_type": "markdown",
   "metadata": {},
   "source": [
    "## Checking modified code "
   ]
  },
  {
   "cell_type": "markdown",
   "metadata": {},
   "source": [
    "- Here, I changed the code such that we do not have to use whole samples for backprobagation"
   ]
  },
  {
   "cell_type": "code",
   "execution_count": null,
   "metadata": {},
   "outputs": [],
   "source": [
    "# path to heatmaps after returning the normalisation to the previous type: /255.0\n",
    "\n",
    "path1 = './adni_heatmaps/gr1_100_64_scd.npy'\n",
    "\n",
    "path2 = './adni_heatmaps/gr2_100_64_scd.npy'"
   ]
  },
  {
   "cell_type": "code",
   "execution_count": null,
   "metadata": {},
   "outputs": [],
   "source": [
    "gr1_heat = np.load(path1)\n",
    "\n",
    "gr2_heat = np.load(path2)"
   ]
  },
  {
   "cell_type": "code",
   "execution_count": null,
   "metadata": {},
   "outputs": [],
   "source": [
    "heat0_gr1 = gr1_heat[0]\n",
    "heat0_gr2 = gr2_heat[0]"
   ]
  },
  {
   "cell_type": "code",
   "execution_count": null,
   "metadata": {},
   "outputs": [],
   "source": [
    "group0_100 = group0[:100]\n",
    "group1_100 = group1[:100]"
   ]
  },
  {
   "cell_type": "code",
   "execution_count": null,
   "metadata": {},
   "outputs": [],
   "source": [
    "img0_gr1 = group0_100[0]\n",
    "img0_gr2 = group1_100[0]"
   ]
  },
  {
   "cell_type": "code",
   "execution_count": null,
   "metadata": {},
   "outputs": [],
   "source": [
    "img0_gr1, ov_img0_gr1 = save_cam_with_alpha(img0_gr1, heat0_gr1, alpha=0.5)\n",
    "\n",
    "img0_gr2, ov_img0_gr2 = save_cam_with_alpha(img0_gr2, heat0_gr2, alpha=0.5)"
   ]
  },
  {
   "cell_type": "markdown",
   "metadata": {},
   "source": [
    "### First group"
   ]
  },
  {
   "cell_type": "code",
   "execution_count": null,
   "metadata": {},
   "outputs": [],
   "source": [
    "fig, axes = plt.subplots(1, 3, figsize=(10, 5))\n",
    "\n",
    "axes[0].imshow(img0_gr1)\n",
    "axes[0].axis(\"off\")\n",
    "axes[0].set_title('Image0 group1')\n",
    "\n",
    "axes[1].imshow(ov_img0_gr1)\n",
    "axes[1].axis(\"off\")\n",
    "axes[1].set_title('Overlay Image0 group1')\n",
    "\n",
    "axes[2].imshow(heat0_gr1)\n",
    "axes[2].axis(\"off\")\n",
    "axes[2].set_title('Heatmap Image0 group1')"
   ]
  },
  {
   "cell_type": "markdown",
   "metadata": {},
   "source": [
    "### Second group"
   ]
  },
  {
   "cell_type": "code",
   "execution_count": null,
   "metadata": {},
   "outputs": [],
   "source": [
    "fig, axes = plt.subplots(1, 3, figsize=(10, 5))\n",
    "\n",
    "axes[0].imshow(img0_gr2)\n",
    "axes[0].axis(\"off\")\n",
    "axes[0].set_title('Image0 group2')\n",
    "\n",
    "axes[1].imshow(ov_img0_gr2)\n",
    "axes[1].axis(\"off\")\n",
    "axes[1].set_title('Overlay Image0 group2')\n",
    "\n",
    "axes[2].imshow(heat0_gr2)\n",
    "axes[2].axis(\"off\")\n",
    "axes[2].set_title('Heatmap Image0 group2')"
   ]
  },
  {
   "cell_type": "markdown",
   "metadata": {},
   "source": [
    "### First group => Image 10"
   ]
  },
  {
   "cell_type": "code",
   "execution_count": null,
   "metadata": {},
   "outputs": [],
   "source": [
    "img10_gr1 = group0_100[10]\n",
    "img10_gr2 = group1_100[10]\n",
    "\n",
    "heat10_gr1 = gr1_heat[10]\n",
    "heat10_gr2 = gr2_heat[10]\n",
    "\n",
    "img10_gr1, ov_img10_gr1 = save_cam_with_alpha(img10_gr1, heat10_gr1, alpha=0.5)\n",
    "\n",
    "img10_gr2, ov_img10_gr2 = save_cam_with_alpha(img10_gr2, heat10_gr2, alpha=0.5)"
   ]
  },
  {
   "cell_type": "code",
   "execution_count": null,
   "metadata": {},
   "outputs": [],
   "source": [
    "fig, axes = plt.subplots(1, 3, figsize=(10, 5))\n",
    "\n",
    "axes[0].imshow(img10_gr1)\n",
    "axes[0].axis(\"off\")\n",
    "axes[0].set_title('Image10 group1')\n",
    "\n",
    "axes[1].imshow(ov_img10_gr1)\n",
    "axes[1].axis(\"off\")\n",
    "axes[1].set_title('Overlay Image10 group1')\n",
    "\n",
    "axes[2].imshow(heat10_gr1)\n",
    "axes[2].axis(\"off\")\n",
    "axes[2].set_title('Heatmap Image10 group1')"
   ]
  },
  {
   "cell_type": "markdown",
   "metadata": {},
   "source": [
    "### Second group => Image 10"
   ]
  },
  {
   "cell_type": "code",
   "execution_count": null,
   "metadata": {},
   "outputs": [],
   "source": [
    "fig, axes = plt.subplots(1, 3, figsize=(10, 5))\n",
    "\n",
    "axes[0].imshow(img10_gr2)\n",
    "axes[0].axis(\"off\")\n",
    "axes[0].set_title('Image10 group2')\n",
    "\n",
    "axes[1].imshow(ov_img10_gr2)\n",
    "axes[1].axis(\"off\")\n",
    "axes[1].set_title('Overlay Image10 group2')\n",
    "\n",
    "axes[2].imshow(heat10_gr2)\n",
    "axes[2].axis(\"off\")\n",
    "axes[2].set_title('Heatmap Image10 group2')"
   ]
  },
  {
   "cell_type": "markdown",
   "metadata": {},
   "source": [
    "### First group => Image 40"
   ]
  },
  {
   "cell_type": "code",
   "execution_count": null,
   "metadata": {},
   "outputs": [],
   "source": [
    "img40_gr1 = group0_100[40]\n",
    "img40_gr2 = group1_100[40]\n",
    "\n",
    "heat40_gr1 = gr1_heat[40]\n",
    "heat40_gr2 = gr2_heat[40]\n",
    "\n",
    "img40_gr1, ov_img40_gr1 = save_cam_with_alpha(img40_gr1, heat40_gr1, alpha=0.5)\n",
    "\n",
    "img40_gr2, ov_img40_gr2 = save_cam_with_alpha(img40_gr2, heat40_gr2, alpha=0.5)"
   ]
  },
  {
   "cell_type": "code",
   "execution_count": null,
   "metadata": {},
   "outputs": [],
   "source": [
    "fig, axes = plt.subplots(1, 3, figsize=(10, 5))\n",
    "\n",
    "axes[0].imshow(img40_gr1)\n",
    "axes[0].axis(\"off\")\n",
    "axes[0].set_title('Image40 group1')\n",
    "\n",
    "axes[1].imshow(ov_img40_gr1)\n",
    "axes[1].axis(\"off\")\n",
    "axes[1].set_title('Overlay Image40 group1')\n",
    "\n",
    "axes[2].imshow(heat40_gr1)\n",
    "axes[2].axis(\"off\")\n",
    "axes[2].set_title('Heatmap Image40 group1')"
   ]
  },
  {
   "cell_type": "markdown",
   "metadata": {},
   "source": [
    "### Second group => Image 40"
   ]
  },
  {
   "cell_type": "code",
   "execution_count": null,
   "metadata": {},
   "outputs": [],
   "source": [
    "fig, axes = plt.subplots(1, 3, figsize=(10, 5))\n",
    "\n",
    "axes[0].imshow(img40_gr2)\n",
    "axes[0].axis(\"off\")\n",
    "axes[0].set_title('Image40 group2')\n",
    "\n",
    "axes[1].imshow(ov_img40_gr2)\n",
    "axes[1].axis(\"off\")\n",
    "axes[1].set_title('Overlay Image40 group2')\n",
    "\n",
    "axes[2].imshow(heat40_gr2)\n",
    "axes[2].axis(\"off\")\n",
    "axes[2].set_title('Heatmap Image40 group2')"
   ]
  },
  {
   "cell_type": "markdown",
   "metadata": {},
   "source": [
    "## Checking minibatch approach"
   ]
  },
  {
   "cell_type": "code",
   "execution_count": null,
   "metadata": {},
   "outputs": [],
   "source": [
    "path1 = './adni_heatmaps/gr1_scd_64_modif.npy'\n",
    "\n",
    "path2 = './adni_heatmaps/gr2_scd_64_modif.npy'"
   ]
  },
  {
   "cell_type": "code",
   "execution_count": null,
   "metadata": {},
   "outputs": [],
   "source": [
    "heat_gr1_scd = np.load(path1)\n",
    "\n",
    "heat_gr2_scd = np.load(path2)"
   ]
  },
  {
   "cell_type": "code",
   "execution_count": null,
   "metadata": {},
   "outputs": [],
   "source": [
    "print(heat_gr1_scd.shape)\n",
    "\n",
    "print(heat_gr2_scd.shape)"
   ]
  },
  {
   "cell_type": "code",
   "execution_count": null,
   "metadata": {},
   "outputs": [],
   "source": [
    "heat0_gr1_scd = heat_gr1_scd[0]\n",
    "\n",
    "heat0_gr2_scd = heat_gr2_scd[0]"
   ]
  },
  {
   "cell_type": "code",
   "execution_count": null,
   "metadata": {},
   "outputs": [],
   "source": [
    "print(heat0_gr1_scd.shape)"
   ]
  },
  {
   "cell_type": "code",
   "execution_count": null,
   "metadata": {},
   "outputs": [],
   "source": [
    "# We can choose either np.array_equal or np.allclose => This checkes for small floating point differences\n",
    "\n",
    "# np.array_eqaul\n",
    "# np.allclose\n",
    "\n",
    "print(heat0_gr1_scd.shape)\n",
    "\n",
    "print(heat0_gr1.shape)\n",
    "\n",
    "ar_equal = np.array_equal(heat0_gr1_scd, heat0_gr1)\n",
    "\n",
    "print(ar_equal)"
   ]
  },
  {
   "cell_type": "code",
   "execution_count": null,
   "metadata": {},
   "outputs": [],
   "source": [
    "# Now we check if two arrays are close\n",
    "\n",
    "ar_close = np.allclose(heat0_gr1_scd, heat0_gr1)\n",
    "\n",
    "print(ar_close)"
   ]
  },
  {
   "cell_type": "markdown",
   "metadata": {},
   "source": [
    "- The above two commands show tow np.arrays are not either equal nor close"
   ]
  },
  {
   "cell_type": "code",
   "execution_count": null,
   "metadata": {},
   "outputs": [],
   "source": [
    "from PIL import Image"
   ]
  },
  {
   "cell_type": "code",
   "execution_count": null,
   "metadata": {},
   "outputs": [],
   "source": [
    "img0_gr1_scd, ov_img0_gr1_scd = save_cam_with_alpha(\n",
    "    img0_gr1, heat0_gr1_scd, alpha=0.5)\n",
    "\n",
    "img0_gr2_scd, ov_img0_gr2_scd = save_cam_with_alpha(\n",
    "    img0_gr2, heat0_gr2_scd, alpha=0.5)"
   ]
  },
  {
   "cell_type": "code",
   "execution_count": null,
   "metadata": {},
   "outputs": [],
   "source": [
    "# we adjust vmin and vmax of heatmaps for scaling\n",
    "\n",
    "v_min_img0_scd, v_max_img0_scd = heat0_gr1_scd.min(), heat0_gr1_scd.max()\n",
    "\n",
    "print(f'v_min_scd:{v_min_img0_scd:0.4f}')\n",
    "\n",
    "print(f'v_max_scd:{v_max_img0_scd:0.4f}')"
   ]
  },
  {
   "cell_type": "code",
   "execution_count": null,
   "metadata": {},
   "outputs": [],
   "source": [
    "fig, axes = plt.subplots(1, 3, figsize=(10, 5))\n",
    "\n",
    "axes[0].imshow(img0_gr1_scd)\n",
    "axes[0].axis(\"off\")\n",
    "axes[0].set_title('Image0 group1 batch')\n",
    "\n",
    "axes[1].imshow(ov_img0_gr1_scd)\n",
    "axes[1].axis(\"off\")\n",
    "axes[1].set_title('Overlay Image0 group1 batch')\n",
    "\n",
    "axes[2].imshow(heat0_gr1_scd)\n",
    "axes[2].axis(\"off\")\n",
    "axes[2].set_title('Heatmap Image0 group1 batch')"
   ]
  },
  {
   "cell_type": "code",
   "execution_count": null,
   "metadata": {},
   "outputs": [],
   "source": [
    "# vmin and vmax from the first method\n",
    "\n",
    "vmin_img0, vmax_img0 = heat0_gr1.min(), heat0_gr1.max()\n",
    "\n",
    "print(f'vmin_img0:{vmin_img0:0.4f}')\n",
    "\n",
    "print(f'vmax_img0:{vmax_img0:0.4f}')"
   ]
  },
  {
   "cell_type": "markdown",
   "metadata": {},
   "source": [
    "- It's really wierd, it shows already that two heatmaps have the same min and max.\n",
    "\n",
    "- But I do not know why `np.allclose()` and `np.eq_array()` show there are differences between two np arrays"
   ]
  },
  {
   "cell_type": "code",
   "execution_count": null,
   "metadata": {},
   "outputs": [],
   "source": [
    "fig, axes = plt.subplots(1, 3, figsize=(10, 5))\n",
    "\n",
    "axes[0].imshow(img0_gr1)\n",
    "axes[0].axis(\"off\")\n",
    "axes[0].set_title('Image0 group1')\n",
    "\n",
    "axes[1].imshow(ov_img0_gr1)\n",
    "axes[1].axis(\"off\")\n",
    "axes[1].set_title('Overlay Image0 group1')\n",
    "\n",
    "axes[2].imshow(heat0_gr1)\n",
    "axes[2].axis(\"off\")\n",
    "axes[2].set_title('Heatmap Image0 group1')"
   ]
  },
  {
   "cell_type": "markdown",
   "metadata": {},
   "source": [
    "- The second group has nothing in gradient"
   ]
  },
  {
   "cell_type": "code",
   "execution_count": null,
   "metadata": {},
   "outputs": [],
   "source": [
    "plt.imshow(heat_gr2[0])"
   ]
  },
  {
   "cell_type": "markdown",
   "metadata": {},
   "source": [
    "### Minibatch approach => image 10"
   ]
  },
  {
   "cell_type": "code",
   "execution_count": null,
   "metadata": {},
   "outputs": [],
   "source": [
    "heat10_gr1_scd = heat_gr1[10]\n",
    "\n",
    "heat10_gr2_scd = heat_gr2[10]\n",
    "\n",
    "img10_gr1_scd, ov_img10_gr1_scd = save_cam_with_alpha(\n",
    "    img10_gr1, heat10_gr1_scd, alpha=0.5)\n",
    "\n",
    "img10_gr2_scd, ov_img10_gr2_scd = save_cam_with_alpha(\n",
    "    img10_gr2, heat10_gr2_scd, alpha=0.5)"
   ]
  },
  {
   "cell_type": "code",
   "execution_count": null,
   "metadata": {},
   "outputs": [],
   "source": [
    "fig, axes = plt.subplots(1, 3, figsize=(10, 5))\n",
    "\n",
    "axes[0].imshow(img10_gr1_scd)\n",
    "axes[0].axis(\"off\")\n",
    "axes[0].set_title('Image10 group1 batch')\n",
    "\n",
    "axes[1].imshow(ov_img10_gr1_scd)\n",
    "axes[1].axis(\"off\")\n",
    "axes[1].set_title('Overlay Image10 group1 batch')\n",
    "\n",
    "axes[2].imshow(heat10_gr1_scd)\n",
    "axes[2].axis(\"off\")\n",
    "axes[2].set_title('Heatmap Image10 group1 batch')"
   ]
  },
  {
   "cell_type": "code",
   "execution_count": null,
   "metadata": {},
   "outputs": [],
   "source": [
    "# Heat maps from the first approach\n",
    "fig, axes = plt.subplots(1, 3, figsize=(10, 5))\n",
    "\n",
    "axes[0].imshow(img10_gr1)\n",
    "axes[0].axis(\"off\")\n",
    "axes[0].set_title('Image10 group1')\n",
    "\n",
    "axes[1].imshow(ov_img10_gr1)\n",
    "axes[1].axis(\"off\")\n",
    "axes[1].set_title('Overlay Image10 group1')\n",
    "\n",
    "axes[2].imshow(heat10_gr1)\n",
    "axes[2].axis(\"off\")\n",
    "axes[2].set_title('Heatmap Image10 group1')"
   ]
  },
  {
   "cell_type": "code",
   "execution_count": null,
   "metadata": {},
   "outputs": [],
   "source": [
    "import torch"
   ]
  },
  {
   "cell_type": "code",
   "execution_count": null,
   "metadata": {},
   "outputs": [],
   "source": [
    "print(torch.__version__)"
   ]
  },
  {
   "cell_type": "markdown",
   "metadata": {},
   "source": [
    "### Minibatch approach => image 40"
   ]
  },
  {
   "cell_type": "code",
   "execution_count": null,
   "metadata": {},
   "outputs": [],
   "source": [
    "heat40_gr1_scd = heat_gr1[40]\n",
    "\n",
    "heat40_gr2_scd = heat_gr2[40]\n",
    "\n",
    "img40_gr1_scd, ov_img40_gr1_scd = save_cam_with_alpha(\n",
    "    img40_gr1, heat40_gr1_scd, alpha=0.5)\n",
    "\n",
    "img40_gr2_scd, ov_img40_gr2_scd = save_cam_with_alpha(\n",
    "    img40_gr2, heat40_gr2_scd, alpha=0.5)"
   ]
  },
  {
   "cell_type": "code",
   "execution_count": null,
   "metadata": {},
   "outputs": [],
   "source": [
    "fig, axes = plt.subplots(1, 3, figsize=(10, 5))\n",
    "\n",
    "axes[0].imshow(img40_gr1_scd)\n",
    "axes[0].axis(\"off\")\n",
    "axes[0].set_title('Image40 group1 batch')\n",
    "\n",
    "axes[1].imshow(ov_img40_gr1_scd)\n",
    "axes[1].axis(\"off\")\n",
    "axes[1].set_title('Overlay Image40 group1 batch')\n",
    "\n",
    "axes[2].imshow(heat40_gr1_scd)\n",
    "axes[2].axis(\"off\")\n",
    "axes[2].set_title('Heatmap Image40 group1 batch')"
   ]
  },
  {
   "cell_type": "code",
   "execution_count": null,
   "metadata": {},
   "outputs": [],
   "source": [
    "fig, axes = plt.subplots(1, 3, figsize=(10, 5))\n",
    "\n",
    "axes[0].imshow(img40_gr1)\n",
    "axes[0].axis(\"off\")\n",
    "axes[0].set_title('Image40 group1')\n",
    "\n",
    "axes[1].imshow(ov_img40_gr1)\n",
    "axes[1].axis(\"off\")\n",
    "axes[1].set_title('Overlay Image40 group1')\n",
    "\n",
    "axes[2].imshow(heat40_gr1)\n",
    "axes[2].axis(\"off\")\n",
    "axes[2].set_title('Heatmap Image40 group1')"
   ]
  },
  {
   "cell_type": "code",
   "execution_count": null,
   "metadata": {},
   "outputs": [],
   "source": [
    "print(heat_gr2.shape)"
   ]
  },
  {
   "cell_type": "code",
   "execution_count": null,
   "metadata": {},
   "outputs": [],
   "source": [
    "import numpy as np\n",
    "\n",
    "\n",
    "# Check for zero-only heatmaps\n",
    "zero_heatmap_indices = np.where(np.all(heat_gr2 == 0, axis=(1, 2)))[0]\n",
    "nonzero_heatmap_indices = np.where(np.any(heat_gr2 != 0, axis=(1, 2)))[0]\n",
    "\n",
    "print(f\"Heatmaps with only zeros: {zero_heatmap_indices}\")\n",
    "print(f\"Heatmaps with nonzero values: {nonzero_heatmap_indices}\")"
   ]
  },
  {
   "cell_type": "markdown",
   "metadata": {},
   "source": [
    "- **All heatmaps are zero in second group**"
   ]
  },
  {
   "cell_type": "markdown",
   "metadata": {},
   "source": [
    "## Checking if increasing numbre of samples in each group changes things "
   ]
  },
  {
   "cell_type": "code",
   "execution_count": null,
   "metadata": {},
   "outputs": [],
   "source": [
    "path1 = './adni_heatmaps/gr1_scd_256_modif_(4591, 2048).npy'\n",
    "\n",
    "heat_gr1_whole = np.load(path1)\n",
    "\n",
    "path2 = './adni_heatmaps/gr2_scd_256_modif_(4592, 2048).npy'\n",
    "\n",
    "heat_gr2_whole = np.load(path2)"
   ]
  },
  {
   "cell_type": "code",
   "execution_count": null,
   "metadata": {},
   "outputs": [],
   "source": [
    "heat0_gr1_w = heat_gr1_whole[0]\n",
    "\n",
    "heat10_gr1_w = heat_gr1_whole[10]\n",
    "\n",
    "heat40_gr1_w = heat_gr1_whole[40]"
   ]
  },
  {
   "cell_type": "code",
   "execution_count": null,
   "metadata": {},
   "outputs": [],
   "source": [
    "# Now lets' overlay these hetamaps on images\n",
    "\n",
    "img0_gr1, ov_img0_gr1_w = save_cam_with_alpha(img0_gr1, heat0_gr1_w, alpha=0.5)\n",
    "\n",
    "img10_gr1, ov_img10_gr1_w = save_cam_with_alpha(\n",
    "    img10_gr1, heat10_gr1_w, alpha=0.5)\n",
    "\n",
    "img40_gr1, ov_img40_gr1_w = save_cam_with_alpha(\n",
    "    img40_gr1, heat40_gr1_w, alpha=0.5)"
   ]
  },
  {
   "cell_type": "markdown",
   "metadata": {},
   "source": [
    "### Image 0"
   ]
  },
  {
   "cell_type": "code",
   "execution_count": null,
   "metadata": {},
   "outputs": [],
   "source": [
    "fig, axes = plt.subplots(1, 3, figsize=(10, 5))\n",
    "\n",
    "axes[0].imshow(img0_gr1)\n",
    "axes[0].axis(\"off\")\n",
    "axes[0].set_title('Image0 group1 whole')\n",
    "\n",
    "axes[1].imshow(ov_img0_gr1_w)\n",
    "axes[1].axis(\"off\")\n",
    "axes[1].set_title('Overlay Image0 group1 whole')\n",
    "\n",
    "axes[2].imshow(heat0_gr1_w)\n",
    "axes[2].axis(\"off\")\n",
    "axes[2].set_title('Heatmap Image0 group1 whole')"
   ]
  },
  {
   "cell_type": "code",
   "execution_count": null,
   "metadata": {},
   "outputs": [],
   "source": [
    "fig, axes = plt.subplots(1, 3, figsize=(10, 5))\n",
    "\n",
    "axes[0].imshow(img0_gr1)\n",
    "axes[0].axis(\"off\")\n",
    "axes[0].set_title('Image0 group1')\n",
    "\n",
    "axes[1].imshow(ov_img0_gr1)\n",
    "axes[1].axis(\"off\")\n",
    "axes[1].set_title('Overlay Image0 group1')\n",
    "\n",
    "axes[2].imshow(heat0_gr1)\n",
    "axes[2].axis(\"off\")\n",
    "axes[2].set_title('Heatmap Image0 group1')"
   ]
  },
  {
   "cell_type": "markdown",
   "metadata": {},
   "source": [
    "### Image 10"
   ]
  },
  {
   "cell_type": "code",
   "execution_count": null,
   "metadata": {},
   "outputs": [],
   "source": [
    "fig, axes = plt.subplots(1, 3, figsize=(10, 5))\n",
    "\n",
    "axes[0].imshow(img10_gr1)\n",
    "axes[0].axis(\"off\")\n",
    "axes[0].set_title('Image10 group1 whole')\n",
    "\n",
    "axes[1].imshow(ov_img10_gr1_w)\n",
    "axes[1].axis(\"off\")\n",
    "axes[1].set_title('Overlay Image10 group1 whole')\n",
    "\n",
    "axes[2].imshow(heat10_gr1_w)\n",
    "axes[2].axis(\"off\")\n",
    "axes[2].set_title('Heatmap Image10 group1 whole')"
   ]
  },
  {
   "cell_type": "code",
   "execution_count": null,
   "metadata": {},
   "outputs": [],
   "source": [
    "fig, axes = plt.subplots(1, 3, figsize=(10, 5))\n",
    "\n",
    "axes[0].imshow(img10_gr1)\n",
    "axes[0].axis(\"off\")\n",
    "axes[0].set_title('Image10 group1')\n",
    "\n",
    "axes[1].imshow(ov_img10_gr1)\n",
    "axes[1].axis(\"off\")\n",
    "axes[1].set_title('Overlay Image10 group1')\n",
    "\n",
    "axes[2].imshow(heat10_gr1)\n",
    "axes[2].axis(\"off\")\n",
    "axes[2].set_title('Heatmap Image10 group1')"
   ]
  },
  {
   "cell_type": "markdown",
   "metadata": {},
   "source": [
    "### Image 40"
   ]
  },
  {
   "cell_type": "code",
   "execution_count": null,
   "metadata": {},
   "outputs": [],
   "source": [
    "fig, axes = plt.subplots(1, 3, figsize=(10, 5))\n",
    "\n",
    "axes[0].imshow(img40_gr1)\n",
    "axes[0].axis(\"off\")\n",
    "axes[0].set_title('Image40 group1 whole')\n",
    "\n",
    "axes[1].imshow(ov_img40_gr1_w)\n",
    "axes[1].axis(\"off\")\n",
    "axes[1].set_title('Overlay Image40 group1 whole')\n",
    "\n",
    "axes[2].imshow(heat40_gr1_w)\n",
    "axes[2].axis(\"off\")\n",
    "axes[2].set_title('Heatmap Image40 group1 whole')"
   ]
  },
  {
   "cell_type": "code",
   "execution_count": null,
   "metadata": {},
   "outputs": [],
   "source": [
    "fig, axes = plt.subplots(1, 3, figsize=(10, 5))\n",
    "\n",
    "axes[0].imshow(img40_gr1)\n",
    "axes[0].axis(\"off\")\n",
    "axes[0].set_title('Image40 group1')\n",
    "\n",
    "axes[1].imshow(ov_img40_gr1)\n",
    "axes[1].axis(\"off\")\n",
    "axes[1].set_title('Overlay Image40 group1')\n",
    "\n",
    "axes[2].imshow(heat40_gr1)\n",
    "axes[2].axis(\"off\")\n",
    "axes[2].set_title('Heatmap Image40 group1')"
   ]
  },
  {
   "cell_type": "markdown",
   "metadata": {},
   "source": [
    "#### This shows even if we include whole samples in the embeddings there is no change in the heatmaps.\n",
    "\n",
    "- When I use **whole dataset** to take the mean embeddings and test-statistic is `0.7672`.\n",
    "\n",
    "- When I use only 64 samples to get the embeddings, tets-statistic is `1.2030`."
   ]
  },
  {
   "cell_type": "markdown",
   "metadata": {},
   "source": [
    "## The effect of normalisation"
   ]
  },
  {
   "cell_type": "markdown",
   "metadata": {},
   "source": [
    "- I changed normalisation and increased the sample size to 180.\n",
    "\n",
    "- Here, I am trying to visualise the heatmaps."
   ]
  },
  {
   "cell_type": "code",
   "execution_count": null,
   "metadata": {},
   "outputs": [],
   "source": [
    "path1 = './adni_heatmaps/gr1_180_n_nr.npy'\n",
    "\n",
    "path2 = './adni_heatmaps/gr2_180_m_nr.npy'"
   ]
  },
  {
   "cell_type": "code",
   "execution_count": null,
   "metadata": {},
   "outputs": [],
   "source": [
    "gr1_heat = np.load(path1)\n",
    "\n",
    "gr2_heat = np.load(path2)"
   ]
  },
  {
   "cell_type": "code",
   "execution_count": null,
   "metadata": {},
   "outputs": [],
   "source": [
    "print(gr1_heat.shape)\n",
    "\n",
    "print(gr2_heat.shape)"
   ]
  },
  {
   "cell_type": "code",
   "execution_count": null,
   "metadata": {},
   "outputs": [],
   "source": [
    "gr0_128 = group0[:128]\n",
    "\n",
    "gr1_128 = group1[:128]"
   ]
  },
  {
   "cell_type": "code",
   "execution_count": null,
   "metadata": {},
   "outputs": [],
   "source": [
    "img0_gr0, ov_im0_gr0 = save_cam_with_alpha(gr0_128, gr1_heat, alpha=0.5)\n",
    "\n",
    "img0_gr1, ov_im0_gr1 = save_cam_with_alpha(gr1_128, gr2_heat, alpha=0.5)"
   ]
  },
  {
   "cell_type": "markdown",
   "metadata": {},
   "source": [
    "## The effect of increasing the sample size"
   ]
  },
  {
   "cell_type": "markdown",
   "metadata": {},
   "source": [
    "- I could not increase the number of samples due to OOM issue"
   ]
  },
  {
   "cell_type": "code",
   "execution_count": null,
   "metadata": {},
   "outputs": [],
   "source": [
    "print(os.listdir('./adni_heatmaps'))"
   ]
  },
  {
   "cell_type": "code",
   "execution_count": null,
   "metadata": {},
   "outputs": [],
   "source": [
    "path1 = './adni_heatmaps/gr1_180.npy'\n",
    "\n",
    "path2 = './adni_heatmaps/gr2_180.npy'"
   ]
  },
  {
   "cell_type": "code",
   "execution_count": null,
   "metadata": {},
   "outputs": [],
   "source": [
    "gr_heat1 = np.load(path1)\n",
    "\n",
    "gr_heat2 = np.load(path2)"
   ]
  },
  {
   "cell_type": "code",
   "execution_count": null,
   "metadata": {},
   "outputs": [],
   "source": [
    "gr_heat1.shape"
   ]
  },
  {
   "cell_type": "code",
   "execution_count": null,
   "metadata": {},
   "outputs": [],
   "source": [
    "gr_heat2.shape"
   ]
  },
  {
   "cell_type": "code",
   "execution_count": null,
   "metadata": {},
   "outputs": [],
   "source": [
    "path1 = './adni_heatmaps/gr1_190.npy'\n",
    "\n",
    "path2 = './adni_heatmaps/gr2_190.npy'\n",
    "\n",
    "gr_heat1 = np.load(path1)\n",
    "\n",
    "gr_heat2 = np.load(path2)\n",
    "\n",
    "print(gr_heat1.shape)\n",
    "\n",
    "print(gr_heat2.shape)"
   ]
  },
  {
   "cell_type": "markdown",
   "metadata": {},
   "source": [
    "- I could not increase the number of samples to 200, because of OOM error."
   ]
  },
  {
   "cell_type": "code",
   "execution_count": null,
   "metadata": {},
   "outputs": [],
   "source": [
    "gr0_128 = group0[:128]\n",
    "\n",
    "gr1_128 = group1[:128]"
   ]
  },
  {
   "cell_type": "code",
   "execution_count": null,
   "metadata": {},
   "outputs": [],
   "source": [
    "print(gr0_128.shape)\n",
    "\n",
    "print(gr1_128.shape)"
   ]
  },
  {
   "cell_type": "markdown",
   "metadata": {},
   "source": [
    "- Let's look at image0, image 10, image40 and image50"
   ]
  },
  {
   "cell_type": "code",
   "execution_count": null,
   "metadata": {},
   "outputs": [],
   "source": [
    "img0_gr1 = gr0_128[0]\n",
    "\n",
    "img0_gr2 = gr1_128[0]"
   ]
  },
  {
   "cell_type": "code",
   "execution_count": null,
   "metadata": {},
   "outputs": [],
   "source": [
    "heat0_gr1 = gr_heat1[0]\n",
    "\n",
    "heat0_gr2 = gr_heat2[0]"
   ]
  },
  {
   "cell_type": "code",
   "execution_count": null,
   "metadata": {},
   "outputs": [],
   "source": [
    "img0_gr0, ov_im0_gr0 = save_cam_with_alpha(img0_gr1, heat0_gr1, alpha=0.5)\n",
    "\n",
    "img0_gr1, ov_im0_gr1 = save_cam_with_alpha(img0_gr2, heat0_gr2, alpha=0.5)"
   ]
  },
  {
   "cell_type": "code",
   "execution_count": null,
   "metadata": {},
   "outputs": [],
   "source": [
    "fig, axes = plt.subplots(1, 2, figsize=(10, 5))\n",
    "\n",
    "axes[0].imshow(img0_gr0)\n",
    "\n",
    "axes[1].imshow(ov_im0_gr0)"
   ]
  },
  {
   "cell_type": "code",
   "execution_count": null,
   "metadata": {},
   "outputs": [],
   "source": [
    "fig, axes = plt.subplots(1, 2, figsize=(10, 5))\n",
    "\n",
    "axes[0].imshow(img0_gr1)\n",
    "\n",
    "axes[1].imshow(ov_im0_gr1)"
   ]
  },
  {
   "cell_type": "markdown",
   "metadata": {},
   "source": [
    "### Looking at Non-Max Factorization"
   ]
  },
  {
   "cell_type": "markdown",
   "metadata": {},
   "source": [
    "- **Step1**: Load embeddings\n",
    "\n",
    "- **Step2**: Make the NMF of embeddings of each groups"
   ]
  },
  {
   "cell_type": "code",
   "execution_count": null,
   "metadata": {},
   "outputs": [],
   "source": [
    "from sklearn.decomposition import NMF\n",
    "\n",
    "# Assuming V1 is the matrix of embeddings for Group 1\n",
    "V1 = ...  # Shape (n1, d)\n",
    "\n",
    "# Initialize NMF model with the desired number of components k\n",
    "k = 10  # Number of concepts/features\n",
    "model_1 = NMF(n_components=k, init='random', random_state=42)\n",
    "\n",
    "# Fit the model to Group 1's embeddings and obtain W1 and H1\n",
    "W1 = model_1.fit_transform(V1)  # Shape (n1, k)\n",
    "H1 = model_1.components_         # Shape (k, d)"
   ]
  },
  {
   "cell_type": "markdown",
   "metadata": {},
   "source": [
    "- Now you have:\n",
    "  \n",
    "  - **W1** and **W2**: The **basis** matrices for each group, where each rwo represents a learned concept\n",
    "  \n",
    "  - **H1** and **H2**: The **coefficients** matrices for each group, representing the weights of the learned concepts for each embedding. "
   ]
  },
  {
   "cell_type": "code",
   "execution_count": null,
   "metadata": {},
   "outputs": [],
   "source": [
    "device = torch.device(\"cuda\" if torch.cuda.is_available() else \"cpu\")\n",
    "print(f\"Running on: {device}\")"
   ]
  },
  {
   "cell_type": "code",
   "execution_count": null,
   "metadata": {},
   "outputs": [],
   "source": [
    "from sklearn.decomposition import NMF"
   ]
  },
  {
   "cell_type": "markdown",
   "metadata": {},
   "source": [
    "- Load embeddings of each group"
   ]
  },
  {
   "cell_type": "code",
   "execution_count": null,
   "metadata": {},
   "outputs": [],
   "source": [
    "gr1_embed = np.load('./adni_embed/embed_gr1.npy')\n",
    "\n",
    "gr2_embed = np.load('./adni_embed/embed_gr1.npy')"
   ]
  },
  {
   "cell_type": "code",
   "execution_count": null,
   "metadata": {},
   "outputs": [],
   "source": [
    "print(gr1_embed.shape)\n",
    "\n",
    "print(gr2_embed.shape)"
   ]
  },
  {
   "cell_type": "markdown",
   "metadata": {},
   "source": [
    "- I take only 200 samples from each group"
   ]
  },
  {
   "cell_type": "code",
   "execution_count": null,
   "metadata": {},
   "outputs": [],
   "source": [
    "gr1_embed200 = gr1_embed[:200, :]\n",
    "gr2_embed200 = gr2_embed[:200, :]"
   ]
  },
  {
   "cell_type": "code",
   "execution_count": null,
   "metadata": {},
   "outputs": [],
   "source": [
    "print(gr1_embed200.shape)\n",
    "print(gr2_embed200.shape)"
   ]
  },
  {
   "cell_type": "markdown",
   "metadata": {},
   "source": [
    "- I decreased the numebr of samples to see if I can observe the convergence\n",
    "\n",
    "- I got the following error in NMF:\n",
    "\n",
    "  - init = 'nndsvd' can only be used when n_components <= min(n_samples, n_features)\n",
    "  \n",
    "- I deleted k=500, as I got the above error\n",
    "\n",
    "- Note that if we inacrease the number of components, then complexity of alorithm increases\n"
   ]
  },
  {
   "cell_type": "code",
   "execution_count": null,
   "metadata": {},
   "outputs": [],
   "source": [
    "from sklearn.decomposition import NMF\n",
    "import numpy as np\n",
    "import matplotlib.pyplot as plt\n",
    "from sklearn.metrics import mean_squared_error"
   ]
  },
  {
   "cell_type": "code",
   "execution_count": null,
   "metadata": {},
   "outputs": [],
   "source": [
    "def get_NMF(V, k=10):\n",
    "    \"\"\"It takes a laten dimention k and factor matrix of emebddings\n",
    "       as the multiplication of two low rank matrices\n",
    "       INPUT:V : nxd, where n is the number of samples in dataset, d is the dimension of mebeddings\n",
    "       OUTPUT: W: nxk, where k is number of components (concepts)\n",
    "             : H: kxd, where\n",
    "    \"\"\"\n",
    "    # Try different values for the number of components (k)\n",
    "    # component_range = [10, 20, 50, 100, 200, 500]\n",
    "\n",
    "    component_range = [10, 20, 50, 100, 200]\n",
    "    reconstruction_errors = []\n",
    "    W_list = []\n",
    "    H_list = []\n",
    "\n",
    "    for k in component_range:\n",
    "        print(f'k={k}')\n",
    "        model = NMF(n_components=k, init='nndsvd',\n",
    "                    random_state=42, max_iter=2000, tol=1e-4)\n",
    "        W = model.fit_transform(V)\n",
    "        H = model.components_\n",
    "\n",
    "        W_list.append(W)\n",
    "        H_list.append(H)\n",
    "\n",
    "        # Reconstruct the data from W and H\n",
    "        V_reconstructed = np.dot(W, H)\n",
    "\n",
    "        # Compute the reconstruction error (mean squared error)\n",
    "        error = mean_squared_error(V, V_reconstructed)\n",
    "        reconstruction_errors.append(error)\n",
    "\n",
    "    # Plot reconstruction error as a function of number of components\n",
    "    plt.plot(component_range, reconstruction_errors, marker='o')\n",
    "    plt.xlabel('Number of Components (k)')\n",
    "    plt.ylabel('Reconstruction Error (MSE)')\n",
    "    plt.title('Reconstruction Error vs. Number of Components')\n",
    "    plt.show()\n",
    "\n",
    "    return (W_list, H_list)"
   ]
  },
  {
   "cell_type": "code",
   "execution_count": null,
   "metadata": {},
   "outputs": [],
   "source": [
    "W1_list, H1_list = get_NMF(gr1_embed200)"
   ]
  },
  {
   "cell_type": "markdown",
   "metadata": {},
   "source": [
    "- Based on the above plot, it seems that **k=50** or **k=100** might be a good choice."
   ]
  },
  {
   "cell_type": "code",
   "execution_count": null,
   "metadata": {},
   "outputs": [],
   "source": [
    "W2_list, H2_list = get_NMF(gr2_embed200)"
   ]
  },
  {
   "cell_type": "markdown",
   "metadata": {},
   "source": [
    "- Based on the above plot, we see that using number of concepts equal to **50 or 100** would be fine."
   ]
  },
  {
   "cell_type": "code",
   "execution_count": null,
   "metadata": {},
   "outputs": [],
   "source": [
    "W1_gr1_50 = W1_list[2]\n",
    "\n",
    "W2_gr2_50 = W2_list[2]"
   ]
  },
  {
   "cell_type": "code",
   "execution_count": null,
   "metadata": {},
   "outputs": [],
   "source": [
    "print(W1_gr1_50.shape)\n",
    "\n",
    "print(W2_gr2_50.shape)"
   ]
  },
  {
   "cell_type": "markdown",
   "metadata": {},
   "source": [
    "- Let's look at columns of matrix: W1_gr1_50\n",
    "\n",
    "- Also, I want to look at columns of matrix W2_gr2_50"
   ]
  },
  {
   "cell_type": "code",
   "execution_count": null,
   "metadata": {},
   "outputs": [],
   "source": [
    "for i in range(50):\n",
    "\n",
    "    print(f'col{i}:{W1_gr1_50[:,i]}\\n')"
   ]
  },
  {
   "cell_type": "code",
   "execution_count": null,
   "metadata": {},
   "outputs": [],
   "source": [
    "for i in range(50):\n",
    "\n",
    "    print(f'col{i}:{W2_gr2_50[:,i]}\\n')"
   ]
  },
  {
   "cell_type": "markdown",
   "metadata": {},
   "source": [
    "### Distance between concepts"
   ]
  },
  {
   "cell_type": "markdown",
   "metadata": {},
   "source": [
    "- # Compute the Euclidean distance between corresponding concepts (rows) in W1 and W2"
   ]
  },
  {
   "cell_type": "code",
   "execution_count": null,
   "metadata": {},
   "outputs": [],
   "source": [
    "distance_matrix = np.linalg.norm(W1_gr1_50 - W2_gr2_50, axis=1)"
   ]
  },
  {
   "cell_type": "code",
   "execution_count": null,
   "metadata": {},
   "outputs": [],
   "source": [
    "distance_matrix.shape"
   ]
  },
  {
   "cell_type": "code",
   "execution_count": null,
   "metadata": {},
   "outputs": [],
   "source": [
    "distance_matrix[:4]"
   ]
  },
  {
   "cell_type": "code",
   "execution_count": null,
   "metadata": {},
   "outputs": [],
   "source": [
    "distance_matrix[0]"
   ]
  },
  {
   "cell_type": "markdown",
   "metadata": {},
   "source": [
    "- We can also look at cosine similarity to see the differences between two matrices. \n",
    "\n",
    "- Alternatively, we could use cosine similarity to measure how similar the learned concepts are between the two groups"
   ]
  },
  {
   "cell_type": "code",
   "execution_count": null,
   "metadata": {},
   "outputs": [],
   "source": [
    "from sklearn.metrics.pairwise import cosine_similarity\n",
    "\n",
    "# Compute pairwise cosine similarity between columns of W1 and W2\n",
    "cosine_sim = cosine_similarity(W1_gr1_50.T, W2_gr2_50.T)  # Shape (50 x 50)"
   ]
  },
  {
   "cell_type": "code",
   "execution_count": null,
   "metadata": {},
   "outputs": [],
   "source": [
    "cosine_sim.shape"
   ]
  },
  {
   "cell_type": "code",
   "execution_count": null,
   "metadata": {},
   "outputs": [],
   "source": [
    "W1_gr1_50.shape"
   ]
  },
  {
   "cell_type": "markdown",
   "metadata": {},
   "source": [
    "- This will give a (50x50) matrix, \n",
    "\n",
    "  - Where i represents the similarity of i'th concept with all concepts in matrix W2\n",
    "  \n",
    "  - Colj represents the similarity of the jth concept to all concepts in W1"
   ]
  },
  {
   "cell_type": "markdown",
   "metadata": {},
   "source": [
    "- If cosine_sim[i, j] is close to 1, the jth concept of W1 and the jth concept of W2 are very similar. \n",
    "\n",
    "- If cosine_sim[i,j] is 0. They are not related.\n",
    "\n",
    "- If cosine_sim[i,j] is -1, They are opposite. \n"
   ]
  },
  {
   "cell_type": "markdown",
   "metadata": {},
   "source": [
    "- Visualaising cosine similarity"
   ]
  },
  {
   "cell_type": "code",
   "execution_count": null,
   "metadata": {},
   "outputs": [],
   "source": [
    "import seaborn as sns\n",
    "import matplotlib.pyplot as plt\n",
    "\n",
    "plt.figure(figsize=(10, 8))\n",
    "sns.heatmap(cosine_sim, cmap=\"viridis\", annot=False)\n",
    "plt.xlabel(\"Concepts in W2\")\n",
    "plt.ylabel(\"Concepts in W1\")\n",
    "plt.title(\"Cosine Similarity Between Concepts of W1 and W2\")\n",
    "plt.show()"
   ]
  },
  {
   "cell_type": "markdown",
   "metadata": {},
   "source": [
    "### Something that Prof. Samak shared:\n",
    "\n",
    " - https://github.com/dilyabareeva/quanda\n",
    " \n",
    " - https://github.com/understandable-machine-intelligence-lab/Quantus\n",
    " \n",
    " - https://arxiv.org/abs/2412.06639"
   ]
  },
  {
   "cell_type": "code",
   "execution_count": null,
   "metadata": {},
   "outputs": [],
   "source": []
  }
 ],
 "metadata": {
  "kernelspec": {
   "display_name": "EST",
   "language": "python",
   "name": "python3"
  },
  "language_info": {
   "codemirror_mode": {
    "name": "ipython",
    "version": 3
   },
   "file_extension": ".py",
   "mimetype": "text/x-python",
   "name": "python",
   "nbconvert_exporter": "python",
   "pygments_lexer": "ipython3",
   "version": "3.11.13"
  }
 },
 "nbformat": 4,
 "nbformat_minor": 2
}
